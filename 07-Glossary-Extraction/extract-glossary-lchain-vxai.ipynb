{
 "cells": [
  {
   "cell_type": "markdown",
   "id": "e8f9e3f7-ade1-4049-90e9-96d963538c5c",
   "metadata": {},
   "source": [
    "****Extract Glossary From Text****\n",
    "\n",
    "**Part 1** - Extract Keywords and Definitions from Block of Text Using Gemini.\n",
    "\n",
    "Includes langchain to address the Gemini API Key Problem\n",
    "\n",
    "This is based on the following examples\n",
    "\n",
    " - https://github.com/GoogleCloudPlatform/generative-ai/blob/main/language/prompts/examples/text_extraction.ipynb\n",
    " - https://medium.com/@joansantoso/gemini-reshaping-the-nlp-task-for-extracting-knowledge-in-text-c0d5fdd4edd8\n",
    " - https://codelabs.developers.google.com/codelabs/genai-text-gen-java-palm-langchain4j#4\n",
    "\n",
    "  "
   ]
  },
  {
   "cell_type": "raw",
   "id": "5fa5cee1-967c-4024-9329-7c473430ceca",
   "metadata": {
    "vscode": {
     "languageId": "raw"
    }
   },
   "source": [
    "**Minimal install for Vertex AI**\n",
    "\n",
    "Does not explicitly install google generative ai in case this forces use of Geminin API Keys"
   ]
  },
  {
   "cell_type": "code",
   "execution_count": null,
   "id": "c9d33f38-6324-4175-8689-d4e8f278c8ee",
   "metadata": {
    "tags": []
   },
   "outputs": [],
   "source": [
    "pip install -U langchain langchain-google-vertexai "
   ]
  },
  {
   "cell_type": "markdown",
   "id": "fb9ccb08-3868-4a2b-9eda-6dab0e99b53e",
   "metadata": {},
   "source": [
    "**Check Version Nos of what was installed**"
   ]
  },
  {
   "cell_type": "code",
   "execution_count": 88,
   "id": "d9709e6a-f98c-4e5e-b7b1-b734db5ae1e9",
   "metadata": {
    "tags": []
   },
   "outputs": [
    {
     "name": "stderr",
     "output_type": "stream",
     "text": [
      "9037.69s - pydevd: Sending message related to process being replaced timed-out after 5 seconds\n"
     ]
    },
    {
     "name": "stdout",
     "output_type": "stream",
     "text": [
      "\u001b[33mWARNING: Package(s) not found: langchain-experimental\u001b[0m\u001b[33m\n",
      "\u001b[0mName: langchain\n",
      "Version: 0.1.20\n",
      "Summary: Building applications with LLMs through composability\n",
      "Home-page: https://github.com/langchain-ai/langchain\n",
      "Author: \n",
      "Author-email: \n",
      "License: MIT\n",
      "Location: /opt/conda/lib/python3.10/site-packages\n",
      "Requires: aiohttp, async-timeout, dataclasses-json, langchain-community, langchain-core, langchain-text-splitters, langsmith, numpy, pydantic, PyYAML, requests, SQLAlchemy, tenacity\n",
      "Required-by: \n",
      "---\n",
      "Name: langchain-core\n",
      "Version: 0.1.52\n",
      "Summary: Building applications with LLMs through composability\n",
      "Home-page: https://github.com/langchain-ai/langchain\n",
      "Author: \n",
      "Author-email: \n",
      "License: MIT\n",
      "Location: /opt/conda/lib/python3.10/site-packages\n",
      "Requires: jsonpatch, langsmith, packaging, pydantic, PyYAML, tenacity\n",
      "Required-by: langchain, langchain-community, langchain-google-vertexai, langchain-text-splitters\n",
      "---\n",
      "Name: langchain-google-vertexai\n",
      "Version: 1.0.3\n",
      "Summary: An integration package connecting Google VertexAI and LangChain\n",
      "Home-page: https://github.com/langchain-ai/langchain-google\n",
      "Author: \n",
      "Author-email: \n",
      "License: MIT\n",
      "Location: /opt/conda/lib/python3.10/site-packages\n",
      "Requires: google-cloud-aiplatform, google-cloud-storage, langchain-core, types-protobuf, types-requests\n",
      "Required-by: \n",
      "---\n",
      "Name: langchain-community\n",
      "Version: 0.0.38\n",
      "Summary: Community contributed LangChain integrations.\n",
      "Home-page: https://github.com/langchain-ai/langchain\n",
      "Author: \n",
      "Author-email: \n",
      "License: MIT\n",
      "Location: /opt/conda/lib/python3.10/site-packages\n",
      "Requires: aiohttp, dataclasses-json, langchain-core, langsmith, numpy, PyYAML, requests, SQLAlchemy, tenacity\n",
      "Required-by: langchain\n",
      "---\n",
      "Name: neo4j\n",
      "Version: 5.20.0\n",
      "Summary: Neo4j Bolt driver for Python\n",
      "Home-page: \n",
      "Author: \n",
      "Author-email: \"Neo4j, Inc.\" <drivers@neo4j.com>\n",
      "License: Apache License, Version 2.0\n",
      "Location: /opt/conda/lib/python3.10/site-packages\n",
      "Requires: pytz\n",
      "Required-by: \n",
      "---\n",
      "Name: google-cloud-aiplatform\n",
      "Version: 1.49.0\n",
      "Summary: Vertex AI API client library\n",
      "Home-page: https://github.com/googleapis/python-aiplatform\n",
      "Author: Google LLC\n",
      "Author-email: googleapis-packages@google.com\n",
      "License: Apache 2.0\n",
      "Location: /opt/conda/lib/python3.10/site-packages\n",
      "Requires: docstring-parser, google-api-core, google-auth, google-cloud-bigquery, google-cloud-resource-manager, google-cloud-storage, packaging, proto-plus, protobuf, pydantic, shapely\n",
      "Required-by: langchain-google-vertexai\n"
     ]
    }
   ],
   "source": [
    "!pip show langchain langchain-core langchain-google-vertexai neo4j google-cloud-aiplatform google-generativeai google-ai-generativelanguage"
   ]
  },
  {
   "cell_type": "markdown",
   "id": "3475874d-7cdc-4e51-8a0c-50421f4a3d70",
   "metadata": {},
   "source": [
    "**Check Jupyter Version No**"
   ]
  },
  {
   "cell_type": "code",
   "execution_count": null,
   "id": "332bfcdc-8d2c-410d-8473-c4cb65ad3d4a",
   "metadata": {
    "tags": []
   },
   "outputs": [],
   "source": [
    "!jupyter --version"
   ]
  },
  {
   "cell_type": "markdown",
   "id": "d38b224b-03e5-4068-a564-2fa642cab286",
   "metadata": {},
   "source": [
    "**Check Python Version/Path** - *Expect 3.10.14*"
   ]
  },
  {
   "cell_type": "code",
   "execution_count": null,
   "id": "dea00fad-2121-4150-a520-60d8ca5c8f1e",
   "metadata": {
    "tags": []
   },
   "outputs": [],
   "source": [
    "import sys\n",
    "import platform\n",
    "print(sys.version)\n",
    "print(platform.python_version())\n",
    "print(sys.path)"
   ]
  },
  {
   "cell_type": "markdown",
   "id": "ab4cc7f4-ee89-4e5e-bd61-054c71931ffd",
   "metadata": {},
   "source": [
    "**Now for the Imports**\n",
    "\n",
    "This time we are isloating Vertex AI"
   ]
  },
  {
   "cell_type": "code",
   "execution_count": null,
   "id": "642f246f-53e3-4786-ab49-8fb5bdb567f2",
   "metadata": {
    "tags": []
   },
   "outputs": [],
   "source": [
    "import os\n",
    "import requests\n",
    "\n",
    "#from langchain_experimental.graph_transformers import LLMGraphTransformer\n",
    "from langchain_google_vertexai import ChatVertexAI\n",
    "from langchain_core.documents import Document"
   ]
  },
  {
   "cell_type": "markdown",
   "id": "6f00f8cc-8185-4fcb-b670-9c423d033b50",
   "metadata": {},
   "source": [
    "**Diagnostic Methods**"
   ]
  },
  {
   "cell_type": "code",
   "execution_count": null,
   "id": "695f63e0-8c42-49bd-adf0-c01df7b8d31f",
   "metadata": {
    "tags": []
   },
   "outputs": [],
   "source": [
    "## Vertex AI Model Diagnostic Dump\n",
    "def print_llm(llm):\n",
    "    print(f\"llm: {llm}\")\n",
    "    print(f\"name: {llm.model_name}\")\n",
    "    print(f\"examples: {llm.examples}\") \n",
    "    print(f\"tuned_model_name: {llm.tuned_model_name}\") \n",
    "    print(f\"convert_system_message_to_human: {llm.convert_system_message_to_human}\") \n",
    "    print(f\"max_output_tokens: {llm.max_output_tokens}\") \n",
    "    print(f\"top_p: {llm.top_p}\") \n",
    "    print(f\"top_k: {llm.top_k}\") \n",
    "    print(f\"credentials: {llm.credentials}\")     \n",
    "    print(f\"n: {llm.n}\") \n",
    "    print(f\"streaming: {llm.streaming}\") \n",
    "    print(f\"safety_settings: {llm.safety_settings}\")     \n",
    "    print(f\"api_transport: {llm.api_transport}\") \n",
    "    print(f\"api_endpoint: {llm.api_endpoint}\") \n",
    " \n",
    "    print('properties') \n",
    "    print('----------') \n",
    "    \n",
    "    print(f\"_llm_type: {llm._llm_type}\") \n",
    "    print(f\"is_codey_model: {llm.is_codey_model}\")     \n",
    "    print(f\"_is_gemini_model: {llm._is_gemini_model}\")\n",
    "    print(f\"_identifying_params: {llm._identifying_params}\")     \n",
    "    print(f\"_default_params: {llm._default_params}\") \n",
    "    print(f\"_user_agent: {llm._user_agent}\") \n",
    "\n"
   ]
  },
  {
   "cell_type": "markdown",
   "id": "b7a1967b-907b-4635-9d14-29c51de06016",
   "metadata": {},
   "source": [
    "**Connect to Google LLMs**\n",
    "\n",
    "*Least Privilege Security.*\n",
    "\n",
    "The Notebook is \"owned\" by a bespoke Service Account created in terrafrom for this purpose.\n",
    "\n",
    "Minimal permisisons are added (also via terraform) via predefined roles (esp. Vertex) as required.\n",
    "\n",
    "This is typically triggered by a PERMISSION DENIED error"
   ]
  },
  {
   "cell_type": "code",
   "execution_count": 71,
   "id": "bc6314e9-e801-4103-aa9b-85c7a1befdd2",
   "metadata": {
    "tags": []
   },
   "outputs": [
    {
     "name": "stdout",
     "output_type": "stream",
     "text": [
      "d23f54b60a95e062becfc280514f90842e3b8169\n"
     ]
    }
   ],
   "source": [
    "import os\n",
    "# Set It - will require regeneration\n",
    "os.environ['GOOGLE_API_KEY'] = 'd23f54b60a95e062becfc280514f90842e3b8169'\n",
    "# Access the environment variable later in your code\n",
    "api_key = os.environ['GOOGLE_API_KEY']\n",
    "print(api_key)"
   ]
  },
  {
   "cell_type": "markdown",
   "id": "a03c9d7a-f26a-40ff-9784-837c9b80d270",
   "metadata": {},
   "source": [
    "****Enable Langchain Debugging****\n",
    "\n",
    "See: https://python.langchain.com/v0.1/docs/guides/development/debugging/"
   ]
  },
  {
   "cell_type": "code",
   "execution_count": 83,
   "id": "24d3fce2-7775-4b22-8b61-b4e10ae87edd",
   "metadata": {
    "tags": []
   },
   "outputs": [],
   "source": [
    "from langchain.globals import set_debug   \n",
    "\n",
    "set_debug(False)"
   ]
  },
  {
   "cell_type": "markdown",
   "id": "88a2b08b-8722-41ae-a5aa-4dda5af5f7ad",
   "metadata": {},
   "source": [
    "**Create The LLMs**\n",
    "\n",
    "Both *Gemini* & *Chat Bison* were created.\n",
    "\n",
    "Chat Bison malfunctioned so has been abandoned FTTB \n",
    "\n",
    "Sourced from here: https://cloud.google.com/vertex-ai/generative-ai/docs/learn/models "
   ]
  },
  {
   "cell_type": "code",
   "execution_count": 73,
   "id": "5a9c76ea-8232-4404-b82a-8d344ae786b7",
   "metadata": {
    "tags": []
   },
   "outputs": [],
   "source": [
    "# Avalable Model Variables\n",
    "\n",
    "# Gemini 1.5 Pro (Preview)\n",
    "# 404 Publisher Model `projects/nlp-dev-6aae/locations/us-central1/publishers/google/models/gemini-1.5-pro` not found.\n",
    "gemini_1pt5_proOnVertex = ChatVertexAI(model=\"gemini-1.5-pro\")\n",
    "#Retrying langchain_google_vertexai.chat_models._completion_with_retry.<locals>._completion_with_retry_inner in 10.0 seconds as it raised InvalidArgument: 400 Request contains an invalid argument..\n",
    "gemini_1pt5_proOnVertex = ChatVertexAI(model=\"gemini-1.5-pro-preview-0409\")\n",
    "\n",
    "\n",
    "\n",
    "# Gemini 1.0 Pro\n",
    "# This works with Errors - chunking\n",
    "gemini_1pt0_proOnVertex = ChatVertexAI(model=\"gemini-1.0-pro\")\n",
    "\n",
    "gemini_proOnVertex = ChatVertexAI(model=\"gemini-pro\")\n"
   ]
  },
  {
   "cell_type": "markdown",
   "id": "7e39c0ff-e607-4a74-ab7b-962c16c8c45c",
   "metadata": {},
   "source": [
    "**Choose which model we are using**"
   ]
  },
  {
   "cell_type": "code",
   "execution_count": 74,
   "id": "5ecd7658-ec29-474c-b89e-9a59d43015f1",
   "metadata": {
    "tags": []
   },
   "outputs": [],
   "source": [
    "chat_llm = gemini_1pt0_proOnVertex"
   ]
  },
  {
   "cell_type": "markdown",
   "id": "c7dba7c3-8534-496f-a4bc-bf086c546815",
   "metadata": {},
   "source": [
    "*Check Model Properties*"
   ]
  },
  {
   "cell_type": "code",
   "execution_count": 75,
   "id": "c67bec55-3505-4481-b385-d152838cc891",
   "metadata": {
    "tags": []
   },
   "outputs": [
    {
     "name": "stdout",
     "output_type": "stream",
     "text": [
      "llm: client=<vertexai.generative_models.GenerativeModel object at 0x7fda33d27040> model_name='gemini-1.0-pro' client_preview=<vertexai.generative_models.GenerativeModel object at 0x7fda33d28730>\n",
      "name: gemini-1.0-pro\n",
      "examples: None\n",
      "tuned_model_name: None\n",
      "convert_system_message_to_human: False\n",
      "max_output_tokens: None\n",
      "top_p: None\n",
      "top_k: None\n",
      "credentials: None\n",
      "n: 1\n",
      "streaming: False\n",
      "safety_settings: None\n",
      "api_transport: None\n",
      "api_endpoint: None\n",
      "properties\n",
      "----------\n",
      "_llm_type: vertexai\n",
      "is_codey_model: False\n",
      "_is_gemini_model: True\n",
      "_identifying_params: {'model_name': 'gemini-1.0-pro', 'candidate_count': 1}\n",
      "_default_params: {'candidate_count': 1}\n",
      "_user_agent: langchain-google-vertexai/1.0.3-ChatVertexAI_gemini-1.0-pro\n"
     ]
    }
   ],
   "source": [
    "print_llm(chat_llm)"
   ]
  },
  {
   "cell_type": "markdown",
   "id": "02b46647-b939-400e-b569-30f93fe24c45",
   "metadata": {},
   "source": [
    "****Test Data****\n",
    "\n",
    "This is an extract from the Transcript of a GCP ML Engineer Professional Certification Training Course"
   ]
  },
  {
   "cell_type": "code",
   "execution_count": 78,
   "id": "52a0456c-cf46-48d4-aa5c-b2d97a6933fa",
   "metadata": {
    "tags": []
   },
   "outputs": [],
   "source": [
    "tutorial_text = \"\"\"\n",
    "Transcript\n",
    "Hello, everyone.\n",
    "So this video will be will be a gentle and brief introduction on what is data science, what is artificial\n",
    "intelligence, machine learning and deep learning.\n",
    "And this will be a short video just in like getting ourselves familiarized with the basic definition\n",
    "of all these four concepts.\n",
    "So let's get started.\n",
    "So just remember this diagram and I will be covering the definition also.\n",
    "So data science is something which which overlaps with all deep learning, machine learning and artificial\n",
    "intelligence.\n",
    "And this is a very, very wide and extensive field.\n",
    "It contains a lot of like mathematics, maths statistics and other things.\n",
    "But this, these three things, so deep learning is a very, very, very specialized field.\n",
    "And deep learning, we can say, is a subset of machine learning.\n",
    "And machine learning is all about computers learning or machines learning about the different like they\n",
    "are learning about the system and coming up with a way to predict or predict the outcome.\n",
    "So deep learning is very specialized.\n",
    "It's a subset.\n",
    "It's a it's a specialized field of machine learning.\n",
    "And same way machine learning is a superset of deep learning.\n",
    "But machine learning is a subset of artificial intelligence, which is a very huge and wide field.\n",
    "So deep learning is part of machine learning.\n",
    "Machine learning is a part of artificial intelligence.\n",
    "And we can say deep learning is also a very small subset of artificial intelligence.\n",
    "So just think of just remember this diagram and you will be like able to distinguish between these three\n",
    "concepts and data.\n",
    "Science is something where separate, but it has a connection with all three topics.\n",
    "So data science.\n",
    "So data science is a field that involves using statistical and computational techniques to extract insights\n",
    "and knowledge from data.\n",
    "It is a multidisciplinary disciplinary field that combines elements from computer science statistics\n",
    "and domain expertise in order to understand and analyze complex data sets.\n",
    "Data.\n",
    "Scientists use a variety of tools and techniques to analyze data, including machine learning, algorithms,\n",
    "statistics, statistical analysis and visualization tools.\n",
    "So Data Science Part two.\n",
    "So they work with structured and unstructured data and use a variety of methods to clean prepare and\n",
    "process the data for analysis.\n",
    "The goal of data science is to extract useful insights and knowledge from data that can be used to inform\n",
    "decision making and solve problems.\n",
    "Data scientists may work in a variety of industries, including finance, healthcare and e-commerce,\n",
    "and may use their skills to tackle a wide range of problems, such as predicting customer behaviour,\n",
    "optimizing supply chain logistics or improve health healthcare outcomes.\n",
    "So next is machine learning.\n",
    "Machine learning is a method of teaching computers to learn from data without being explicitly programmed.\n",
    "It is a subset of artificial intelligence that focuses on the development of computer programs that\n",
    "can access data and use it to learn for themselves.\n",
    "There are three main types of machine learning.\n",
    "Supervised Learning.\n",
    "Unsupervised learning and reinforcement learning.\n",
    "In supervised learning.\n",
    "The computer is given a set of labeled training data and a set of desired outputs, and the algorithm\n",
    "learns to map the inputs to the outputs.\n",
    "For example, a supervised learning algorithm might be trained to classify email as spam or not spam\n",
    "based on a set of labeled examples.\n",
    "In unsupervised learning.\n",
    "The algorithm is given a set of data without any labels, and it must find patterns and relationships\n",
    "in the data.\n",
    "One example of unsupervised learning is clustering, where the algorithm groups similar data points\n",
    "together.\n",
    "In reinforcement learning, the algorithm learns by interacting with its environment and receiving towards\n",
    "rewards or penalties for certain actions.\n",
    "So reinforcement enforcement learning is mostly used in like automatic, like self-driving cars and\n",
    "robots and race cars where there is no human involved.\n",
    "So or in some kind of game where you want to program like some, uh, some toy or something and it will\n",
    "keep like going through multiple, multiple races and see, every time it, it has an accident or it\n",
    "hits, it learns and it creates a reinforcement, like a reward.\n",
    "What is the reward and what is a penalty?\n",
    "And it will just keep doing that and it will learn from that environment.\n",
    "So this is the type of learning used by, as I mentioned, self-driving cars and robots to learn how\n",
    "to navigate their environments.\n",
    "So next is artificial intelligence.\n",
    "Artificial intelligence refers to the ability of computers and machines to perform tasks that would\n",
    "normally require human intelligence, such as learning problem solving and decision making.\n",
    "So as I mentioned, this is a higher form of of machine learning or deep learning, but this is a higher\n",
    "form.\n",
    "So this is a machine learning involved, plus some some kind of intelligence like some kind of problem\n",
    "solving or decision making skills.\n",
    "So there are several types of artificial intelligence, including narrow or weak artificial intelligence.\n",
    "This type of AI is used to perform a specific task, such as playing a game or recognizing speech.\n",
    "It is not generally capable of performing other tasks, general or strong AI.\n",
    "This type of AI is capable of performing a wide range of tasks and can exhibit human like intelligence.\n",
    "And last is artificial superintelligence.\n",
    "This is a hypothetical future form of AI that would surpass human intelligence in a wide range of domains.\n",
    "So next, again, continuing artificial intelligence is achieved through a combination of machine learning\n",
    "algorithms and other techniques that allow computers to process and analyze data in order to make decisions\n",
    "and take actions.\n",
    "Some common applications of AI include image and speech recognition, natural language processing and\n",
    "autonomous vehicles.\n",
    "He has the potential to revolutionize.\n",
    "Revolutionize many industries and has already had a significant impact on fields such as healthcare,\n",
    "finance and manufacturing.\n",
    "Next last concept is deep learning.\n",
    "Deep learning is a subfield of machine learning that is inspired by the structure and function of the\n",
    "brain, especially the neural networks that make up the brain.\n",
    "It involves training artificial neural networks on a large dataset, allowing allowing the network to\n",
    "learn and make intelligent decisions on its own.\n",
    "Deep learning algorithms are constructed using multiple layers of artificial neural networks with each\n",
    "layer processing the input data and passing it on to the next layer.\n",
    "So part to this hierarchical structure allows the algorithm to learn and represent very complex patterns\n",
    "in the data.\n",
    "Deep learning has been successful in a wide range of applications, including image and speech recognition,\n",
    "natural language processing and even playing games like Chess and Go.\n",
    "It has also been used to improve the performance of machine learning algorithms in other fields such\n",
    "as healthcare and finance.\n",
    "So just I'll try to explain in the simplest possible way.\n",
    "In manual programming.\n",
    "So in like in regular programming, you tell the computer like what is the algorithm equation formula\n",
    "or rules, for example, I'll just take one example.\n",
    "For example, you tell like you give some input and you say one plus two equal to three.\n",
    "So you just program, you just write a program where that it gets two inputs and outcome or output wil\n",
    "be three.\n",
    "So you just you just tell that this is the formula, this is the equation, this is the rule.\n",
    "So the computer will just perform this.\n",
    "There is no learning involved.\n",
    "Just you tell this is the the formula, right?\n",
    "But in machine learning machines learn the algorithm equation or the formula by themselves, by different\n",
    "permutations.\n",
    "So for example.\n",
    "You just feed in the data.\n",
    "You just say input that to input, for example, A and B and the outcome or output.\n",
    "Let's just call let's call it C, So you just say a B is the input and output will be six and you just\n",
    "feed in more data like three and four and output is is 12 and same.\n",
    "You have given the three set of data, just very simplistic example like even 1 or 2 will do.\n",
    "But just to, just to put my point across.\n",
    "So you just feed in, for example, the third set of data like four into four and five A and B and the\n",
    "output will be 20 in this case.\n",
    "So you tell the computer that, tell me what is the formula like?\n",
    "What is the equation?\n",
    "And in this case, for simplistic, it can be plus minus, multiply or divide.\n",
    "So so machines will go through all the data and will figure out, okay, this is like a multiplication\n",
    "multiplication.\n",
    "So this is very simplistic way, but in in real world will be like a very complex problem.\n",
    "It can have exponential logarithms, root square, root, quadratic, root, all kind of things can\n",
    "go.\n",
    "It can be there will be multiple like features where multiple inputs it can span ten, 2000s also and\n",
    "there will be one single output.\n",
    "And the mathematical operator can be not for it can be any number of it can be root, square, root\n",
    "log exponential.\n",
    "So the computer will just will go through all the data and finally come up with the most optimal like\n",
    "generic equation.\n",
    "And then that's how they learn.\n",
    "So we don't have to program and figure out all the logic and all.\n",
    "So for complex real world problems, you feed in lots of data and expected outcomes and machines will\n",
    "come up with the algorithm equation or the formula.\n",
    "So you can just some some people will call it algorithm rules equation problem.\n",
    "So just think of anything that can represent some real world problem and what could be the expected\n",
    "solution.\n",
    "So that's all.\n",
    "Thanks for watching.\n",
    "\"\"\""
   ]
  },
  {
   "cell_type": "code",
   "execution_count": 79,
   "id": "ca4799f4-f4f9-47bc-b791-d290d7d1733d",
   "metadata": {
    "tags": []
   },
   "outputs": [
    {
     "name": "stdout",
     "output_type": "stream",
     "text": [
      "No. chunks20\n"
     ]
    }
   ],
   "source": [
    "from langchain.text_splitter import RecursiveCharacterTextSplitter\n",
    "# split documents into text and embeddings\n",
    "\n",
    "text_splitter = RecursiveCharacterTextSplitter(\n",
    "   chunk_size=512, \n",
    "   chunk_overlap=20,\n",
    "   length_function=len,\n",
    "   is_separator_regex=False\n",
    ")\n",
    "\n",
    "chunks = text_splitter.split_documents(documents)\n",
    "\n",
    "print(f\"No. chunks{len(chunks)}\")"
   ]
  },
  {
   "cell_type": "code",
   "execution_count": null,
   "id": "8b3a3d52-26bb-4b2c-aa37-1930fcb38f95",
   "metadata": {},
   "outputs": [],
   "source": []
  }
 ],
 "metadata": {
  "environment": {
   "kernel": "conda-base-py",
   "name": "workbench-notebooks.m120",
   "type": "gcloud",
   "uri": "us-docker.pkg.dev/deeplearning-platform-release/gcr.io/workbench-notebooks:m120"
  },
  "kernelspec": {
   "display_name": "Python 3 (ipykernel) (Local)",
   "language": "python",
   "name": "conda-base-py"
  },
  "language_info": {
   "codemirror_mode": {
    "name": "ipython",
    "version": 3
   },
   "file_extension": ".py",
   "mimetype": "text/x-python",
   "name": "python",
   "nbconvert_exporter": "python",
   "pygments_lexer": "ipython3",
   "version": "3.10.14"
  }
 },
 "nbformat": 4,
 "nbformat_minor": 5
}
