{
 "cells": [
  {
   "cell_type": "markdown",
   "id": "8b2c2087-f1ed-448c-bdc2-8c75992f7810",
   "metadata": {},
   "source": [
    "****Extract Glossary From Text****\n",
    "\n",
    "**Part 1** - Extract Keywords and Definitions from Block of Text Using Gemini.\n",
    "\n",
    "Do not use langchain at this stage. Add it later.\n",
    "\n",
    "This is based on the following examples\n",
    "\n",
    " - https://github.com/GoogleCloudPlatform/generative-ai/blob/main/language/prompts/examples/text_extraction.ipynb\n",
    " - https://medium.com/@joansantoso/gemini-reshaping-the-nlp-task-for-extracting-knowledge-in-text-c0d5fdd4edd8\n",
    " - https://codelabs.developers.google.com/codelabs/genai-text-gen-java-palm-langchain4j#4\n",
    "\n",
    " "
   ]
  },
  {
   "cell_type": "markdown",
   "id": "5ab08fd3-6c68-4030-a4d4-21150da9f9b0",
   "metadata": {},
   "source": [
    "**Minimal install for Vertex AI**\n",
    "\n",
    "Currently Excludes Langchain. "
   ]
  },
  {
   "cell_type": "code",
   "execution_count": null,
   "id": "c9d33f38-6324-4175-8689-d4e8f278c8ee",
   "metadata": {
    "tags": []
   },
   "outputs": [],
   "source": [
    "!pip install google-generativeai --upgrade --user"
   ]
  },
  {
   "cell_type": "markdown",
   "id": "fb9ccb08-3868-4a2b-9eda-6dab0e99b53e",
   "metadata": {},
   "source": [
    "**Check Version Nos of what was installed**"
   ]
  },
  {
   "cell_type": "code",
   "execution_count": null,
   "id": "d9709e6a-f98c-4e5e-b7b1-b734db5ae1e9",
   "metadata": {
    "tags": []
   },
   "outputs": [],
   "source": [
    "!pip show google-generativeai"
   ]
  },
  {
   "cell_type": "markdown",
   "id": "3475874d-7cdc-4e51-8a0c-50421f4a3d70",
   "metadata": {},
   "source": [
    "**Check Jupyter Version No**"
   ]
  },
  {
   "cell_type": "code",
   "execution_count": null,
   "id": "332bfcdc-8d2c-410d-8473-c4cb65ad3d4a",
   "metadata": {
    "tags": []
   },
   "outputs": [],
   "source": [
    "!jupyter --version"
   ]
  },
  {
   "cell_type": "markdown",
   "id": "d38b224b-03e5-4068-a564-2fa642cab286",
   "metadata": {},
   "source": [
    "**Check Python Version/Path** - *Expect 3.10.14*"
   ]
  },
  {
   "cell_type": "code",
   "execution_count": null,
   "id": "dea00fad-2121-4150-a520-60d8ca5c8f1e",
   "metadata": {
    "tags": []
   },
   "outputs": [],
   "source": [
    "import sys\n",
    "import platform\n",
    "print(sys.version)\n",
    "print(platform.python_version())\n",
    "print(sys.path)"
   ]
  },
  {
   "cell_type": "markdown",
   "id": "ab4cc7f4-ee89-4e5e-bd61-054c71931ffd",
   "metadata": {},
   "source": [
    "**Now for the Imports**\n",
    "\n",
    "This time we are isloating Vertex AI"
   ]
  },
  {
   "cell_type": "code",
   "execution_count": null,
   "id": "642f246f-53e3-4786-ab49-8fb5bdb567f2",
   "metadata": {
    "tags": []
   },
   "outputs": [],
   "source": [
    "import os\n",
    "import requests"
   ]
  },
  {
   "cell_type": "markdown",
   "id": "b7a1967b-907b-4635-9d14-29c51de06016",
   "metadata": {},
   "source": [
    "**Connect to Google LLMs**\n",
    "\n",
    "*Least Privilege Security.*\n",
    "\n",
    "The Notebook is \"owned\" by a bespoke Service Account created in terrafrom for this purpose.\n",
    "\n",
    "Minimal permisisons are added (also via terraform) via predefined roles (esp. Vertex) as required.\n",
    "\n",
    "This is typically triggered by a PERMISSION DENIED error"
   ]
  },
  {
   "cell_type": "code",
   "execution_count": null,
   "id": "bc6314e9-e801-4103-aa9b-85c7a1befdd2",
   "metadata": {
    "tags": []
   },
   "outputs": [],
   "source": [
    "import google.generativeai as genai\n",
    "API_KEY = 'd23f54b60a95e062becfc280514f90842e3b8169'\n",
    "genai.configure(api_key=API_KEY)"
   ]
  },
  {
   "cell_type": "markdown",
   "id": "7e39c0ff-e607-4a74-ab7b-962c16c8c45c",
   "metadata": {},
   "source": [
    "**Choose which model we are using**"
   ]
  },
  {
   "cell_type": "code",
   "execution_count": null,
   "id": "5a9c76ea-8232-4404-b82a-8d344ae786b7",
   "metadata": {
    "tags": []
   },
   "outputs": [],
   "source": [
    "model = genai.GenerativeModel('gemini-pro')"
   ]
  },
  {
   "cell_type": "markdown",
   "id": "02b46647-b939-400e-b569-30f93fe24c45",
   "metadata": {},
   "source": [
    "****Test Data****\n",
    "\n",
    "This is an extract from the Transcript of a GCP ML Engineer Professional Certification Training Course"
   ]
  },
  {
   "cell_type": "code",
   "execution_count": null,
   "id": "52a0456c-cf46-48d4-aa5c-b2d97a6933fa",
   "metadata": {
    "tags": []
   },
   "outputs": [],
   "source": [
    "tutorial_text = \"\"\"\n",
    "Transcript\n",
    "Hello, everyone.\n",
    "So this video will be will be a gentle and brief introduction on what is data science, what is artificial\n",
    "intelligence, machine learning and deep learning.\n",
    "And this will be a short video just in like getting ourselves familiarized with the basic definition\n",
    "of all these four concepts.\n",
    "So let's get started.\n",
    "So just remember this diagram and I will be covering the definition also.\n",
    "So data science is something which which overlaps with all deep learning, machine learning and artificial\n",
    "intelligence.\n",
    "And this is a very, very wide and extensive field.\n",
    "It contains a lot of like mathematics, maths statistics and other things.\n",
    "But this, these three things, so deep learning is a very, very, very specialized field.\n",
    "And deep learning, we can say, is a subset of machine learning.\n",
    "And machine learning is all about computers learning or machines learning about the different like they\n",
    "are learning about the system and coming up with a way to predict or predict the outcome.\n",
    "So deep learning is very specialized.\n",
    "It's a subset.\n",
    "It's a it's a specialized field of machine learning.\n",
    "And same way machine learning is a superset of deep learning.\n",
    "But machine learning is a subset of artificial intelligence, which is a very huge and wide field.\n",
    "So deep learning is part of machine learning.\n",
    "Machine learning is a part of artificial intelligence.\n",
    "And we can say deep learning is also a very small subset of artificial intelligence.\n",
    "So just think of just remember this diagram and you will be like able to distinguish between these three\n",
    "concepts and data.\n",
    "Science is something where separate, but it has a connection with all three topics.\n",
    "So data science.\n",
    "So data science is a field that involves using statistical and computational techniques to extract insights\n",
    "and knowledge from data.\n",
    "It is a multidisciplinary disciplinary field that combines elements from computer science statistics\n",
    "and domain expertise in order to understand and analyze complex data sets.\n",
    "Data.\n",
    "Scientists use a variety of tools and techniques to analyze data, including machine learning, algorithms,\n",
    "statistics, statistical analysis and visualization tools.\n",
    "So Data Science Part two.\n",
    "So they work with structured and unstructured data and use a variety of methods to clean prepare and\n",
    "process the data for analysis.\n",
    "The goal of data science is to extract useful insights and knowledge from data that can be used to inform\n",
    "decision making and solve problems.\n",
    "Data scientists may work in a variety of industries, including finance, healthcare and e-commerce,\n",
    "and may use their skills to tackle a wide range of problems, such as predicting customer behaviour,\n",
    "optimizing supply chain logistics or improve health healthcare outcomes.\n",
    "So next is machine learning.\n",
    "Machine learning is a method of teaching computers to learn from data without being explicitly programmed.\n",
    "It is a subset of artificial intelligence that focuses on the development of computer programs that\n",
    "can access data and use it to learn for themselves.\n",
    "There are three main types of machine learning.\n",
    "Supervised Learning.\n",
    "Unsupervised learning and reinforcement learning.\n",
    "In supervised learning.\n",
    "The computer is given a set of labeled training data and a set of desired outputs, and the algorithm\n",
    "learns to map the inputs to the outputs.\n",
    "For example, a supervised learning algorithm might be trained to classify email as spam or not spam\n",
    "based on a set of labeled examples.\n",
    "In unsupervised learning.\n",
    "The algorithm is given a set of data without any labels, and it must find patterns and relationships\n",
    "in the data.\n",
    "One example of unsupervised learning is clustering, where the algorithm groups similar data points\n",
    "together.\n",
    "In reinforcement learning, the algorithm learns by interacting with its environment and receiving towards\n",
    "rewards or penalties for certain actions.\n",
    "So reinforcement enforcement learning is mostly used in like automatic, like self-driving cars and\n",
    "robots and race cars where there is no human involved.\n",
    "So or in some kind of game where you want to program like some, uh, some toy or something and it will\n",
    "keep like going through multiple, multiple races and see, every time it, it has an accident or it\n",
    "hits, it learns and it creates a reinforcement, like a reward.\n",
    "What is the reward and what is a penalty?\n",
    "And it will just keep doing that and it will learn from that environment.\n",
    "So this is the type of learning used by, as I mentioned, self-driving cars and robots to learn how\n",
    "to navigate their environments.\n",
    "So next is artificial intelligence.\n",
    "Artificial intelligence refers to the ability of computers and machines to perform tasks that would\n",
    "normally require human intelligence, such as learning problem solving and decision making.\n",
    "So as I mentioned, this is a higher form of of machine learning or deep learning, but this is a higher\n",
    "form.\n",
    "So this is a machine learning involved, plus some some kind of intelligence like some kind of problem\n",
    "solving or decision making skills.\n",
    "So there are several types of artificial intelligence, including narrow or weak artificial intelligence.\n",
    "This type of AI is used to perform a specific task, such as playing a game or recognizing speech.\n",
    "It is not generally capable of performing other tasks, general or strong AI.\n",
    "This type of AI is capable of performing a wide range of tasks and can exhibit human like intelligence.\n",
    "And last is artificial superintelligence.\n",
    "This is a hypothetical future form of AI that would surpass human intelligence in a wide range of domains.\n",
    "So next, again, continuing artificial intelligence is achieved through a combination of machine learning\n",
    "algorithms and other techniques that allow computers to process and analyze data in order to make decisions\n",
    "and take actions.\n",
    "Some common applications of AI include image and speech recognition, natural language processing and\n",
    "autonomous vehicles.\n",
    "He has the potential to revolutionize.\n",
    "Revolutionize many industries and has already had a significant impact on fields such as healthcare,\n",
    "finance and manufacturing.\n",
    "Next last concept is deep learning.\n",
    "Deep learning is a subfield of machine learning that is inspired by the structure and function of the\n",
    "brain, especially the neural networks that make up the brain.\n",
    "It involves training artificial neural networks on a large dataset, allowing allowing the network to\n",
    "learn and make intelligent decisions on its own.\n",
    "Deep learning algorithms are constructed using multiple layers of artificial neural networks with each\n",
    "layer processing the input data and passing it on to the next layer.\n",
    "So part to this hierarchical structure allows the algorithm to learn and represent very complex patterns\n",
    "in the data.\n",
    "Deep learning has been successful in a wide range of applications, including image and speech recognition,\n",
    "natural language processing and even playing games like Chess and Go.\n",
    "It has also been used to improve the performance of machine learning algorithms in other fields such\n",
    "as healthcare and finance.\n",
    "So just I'll try to explain in the simplest possible way.\n",
    "In manual programming.\n",
    "So in like in regular programming, you tell the computer like what is the algorithm equation formula\n",
    "or rules, for example, I'll just take one example.\n",
    "For example, you tell like you give some input and you say one plus two equal to three.\n",
    "So you just program, you just write a program where that it gets two inputs and outcome or output wil\n",
    "be three.\n",
    "So you just you just tell that this is the formula, this is the equation, this is the rule.\n",
    "So the computer will just perform this.\n",
    "There is no learning involved.\n",
    "Just you tell this is the the formula, right?\n",
    "But in machine learning machines learn the algorithm equation or the formula by themselves, by different\n",
    "permutations.\n",
    "So for example.\n",
    "You just feed in the data.\n",
    "You just say input that to input, for example, A and B and the outcome or output.\n",
    "Let's just call let's call it C, So you just say a B is the input and output will be six and you just\n",
    "feed in more data like three and four and output is is 12 and same.\n",
    "You have given the three set of data, just very simplistic example like even 1 or 2 will do.\n",
    "But just to, just to put my point across.\n",
    "So you just feed in, for example, the third set of data like four into four and five A and B and the\n",
    "output will be 20 in this case.\n",
    "So you tell the computer that, tell me what is the formula like?\n",
    "What is the equation?\n",
    "And in this case, for simplistic, it can be plus minus, multiply or divide.\n",
    "So so machines will go through all the data and will figure out, okay, this is like a multiplication\n",
    "multiplication.\n",
    "So this is very simplistic way, but in in real world will be like a very complex problem.\n",
    "It can have exponential logarithms, root square, root, quadratic, root, all kind of things can\n",
    "go.\n",
    "It can be there will be multiple like features where multiple inputs it can span ten, 2000s also and\n",
    "there will be one single output.\n",
    "And the mathematical operator can be not for it can be any number of it can be root, square, root\n",
    "log exponential.\n",
    "So the computer will just will go through all the data and finally come up with the most optimal like\n",
    "generic equation.\n",
    "And then that's how they learn.\n",
    "So we don't have to program and figure out all the logic and all.\n",
    "So for complex real world problems, you feed in lots of data and expected outcomes and machines will\n",
    "come up with the algorithm equation or the formula.\n",
    "So you can just some some people will call it algorithm rules equation problem.\n",
    "So just think of anything that can represent some real world problem and what could be the expected\n",
    "solution.\n",
    "So that's all.\n",
    "Thanks for watching.\n",
    "\"\"\""
   ]
  },
  {
   "cell_type": "markdown",
   "id": "11951d20-24db-495c-b633-16fb38d58cab",
   "metadata": {},
   "source": [
    "****Glossary Extraction Prompt****"
   ]
  },
  {
   "cell_type": "code",
   "execution_count": null,
   "id": "6165e284-330c-4c77-b12b-c6fc037b8879",
   "metadata": {},
   "outputs": [],
   "source": [
    "prompt='''\n",
    "1.You are a Named Entity Recognition in English Language.\n",
    "2.Do some analysis to extract the Keywords, that is important entities, from the text. \n",
    "3.Assign a Category for each entity, in Upper Case. Assign MISC for Entites which cannot be classified easily.\n",
    "4.Extract a Summary Definition for each Keyword Extracted. The Summary Definition must not be more than 100 words length. If no definition is available, assign NOT AVAILABLE. \n",
    "4.Return this result as JSON for each Keyword. Thus each Keyword will have 3 JSON Attributes: Entity, Category and Definition.\n",
    "Analyze the following sentences: \"'\n",
    "'''"
   ]
  },
  {
   "cell_type": "markdown",
   "id": "52e05f95-6920-4def-b5c9-c8b8d8918424",
   "metadata": {},
   "source": [
    "****Call to LLM****"
   ]
  },
  {
   "cell_type": "code",
   "execution_count": null,
   "id": "7c353b91-d6ef-4403-86e3-665db00ebf23",
   "metadata": {},
   "outputs": [],
   "source": [
    "response = model.generate_content(prompt+tutorial_text +'\"')\n",
    "print(response.text)"
   ]
  }
 ],
 "metadata": {
  "environment": {
   "kernel": "conda-base-py",
   "name": "workbench-notebooks.m122",
   "type": "gcloud",
   "uri": "us-docker.pkg.dev/deeplearning-platform-release/gcr.io/workbench-notebooks:m122"
  },
  "kernelspec": {
   "display_name": "Python 3 (ipykernel) (Local)",
   "language": "python",
   "name": "conda-base-py"
  },
  "language_info": {
   "codemirror_mode": {
    "name": "ipython",
    "version": 3
   },
   "file_extension": ".py",
   "mimetype": "text/x-python",
   "name": "python",
   "nbconvert_exporter": "python",
   "pygments_lexer": "ipython3",
   "version": "3.10.14"
  }
 },
 "nbformat": 4,
 "nbformat_minor": 5
}
