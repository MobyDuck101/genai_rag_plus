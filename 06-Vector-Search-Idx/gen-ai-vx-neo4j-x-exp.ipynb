{
 "cells": [
  {
   "cell_type": "markdown",
   "id": "e8f9e3f7-ade1-4049-90e9-96d963538c5c",
   "metadata": {},
   "source": [
    "****Ingest Website to Graph DB****\n",
    "\n",
    "**Part 4** - Use Ve**GenAI Vectorisation** To Collapse Nodes & Relationships\n",
    "\n",
    "Destroy Entities and Relatonships from Node4J GraphDB using intelligent Vector Search Indices and Queries.\n",
    "\n",
    "This is adapted from https://python.langchain.com/v0.1/docs/integrations/vectorstores/neo4jvector/ OpenAI Example\n",
    "\n",
    "Combning it with https://python.langchain.com/v0.1/docs/integrations/text_embedding/google_generative_ai/ "
   ]
  },
  {
   "cell_type": "code",
   "execution_count": null,
   "id": "c9d33f38-6324-4175-8689-d4e8f278c8ee",
   "metadata": {
    "tags": []
   },
   "outputs": [],
   "source": [
    "%pip install -U langchain langchain-google-genai neo4j json-repair"
   ]
  },
  {
   "cell_type": "markdown",
   "id": "fb9ccb08-3868-4a2b-9eda-6dab0e99b53e",
   "metadata": {},
   "source": [
    "**Check Version Nos of what was installed**"
   ]
  },
  {
   "cell_type": "code",
   "execution_count": null,
   "id": "d9709e6a-f98c-4e5e-b7b1-b734db5ae1e9",
   "metadata": {
    "tags": []
   },
   "outputs": [],
   "source": [
    "%pip show langchain langchain-core langchain-google-genai langchain-google-vertexai langchain-experimental google-ai-generativelanguage langchain-community neo4j google-cloud-aiplatform google-generativeai"
   ]
  },
  {
   "cell_type": "markdown",
   "id": "3475874d-7cdc-4e51-8a0c-50421f4a3d70",
   "metadata": {},
   "source": [
    "**Check Jupyter Version No**"
   ]
  },
  {
   "cell_type": "code",
   "execution_count": null,
   "id": "332bfcdc-8d2c-410d-8473-c4cb65ad3d4a",
   "metadata": {
    "tags": []
   },
   "outputs": [],
   "source": [
    "!jupyter --version"
   ]
  },
  {
   "cell_type": "markdown",
   "id": "d38b224b-03e5-4068-a564-2fa642cab286",
   "metadata": {},
   "source": [
    "**Check Python Version/Path** - *Expect 3.10.14*"
   ]
  },
  {
   "cell_type": "code",
   "execution_count": null,
   "id": "dea00fad-2121-4150-a520-60d8ca5c8f1e",
   "metadata": {
    "tags": []
   },
   "outputs": [],
   "source": [
    "import sys\n",
    "import platform\n",
    "print(sys.version)\n",
    "print(platform.python_version())\n",
    "print(sys.path)"
   ]
  },
  {
   "cell_type": "markdown",
   "id": "ab4cc7f4-ee89-4e5e-bd61-054c71931ffd",
   "metadata": {},
   "source": [
    "**Now for the Imports**\n",
    "\n",
    "This time we are isloating Vertex AI"
   ]
  },
  {
   "cell_type": "code",
   "execution_count": null,
   "id": "642f246f-53e3-4786-ab49-8fb5bdb567f2",
   "metadata": {
    "tags": []
   },
   "outputs": [],
   "source": [
    "import os\n",
    "\n",
    "from langchain_google_genai import GoogleGenerativeAIEmbeddings\n",
    "from langchain_core.documents import Document\n",
    "from langchain_community.docstore.document import Document\n",
    "from langchain_community.vectorstores import Neo4jVector"
   ]
  },
  {
   "cell_type": "markdown",
   "id": "6f00f8cc-8185-4fcb-b670-9c423d033b50",
   "metadata": {},
   "source": [
    "**Diagnostic Methods**"
   ]
  },
  {
   "cell_type": "markdown",
   "id": "b7a1967b-907b-4635-9d14-29c51de06016",
   "metadata": {},
   "source": [
    "**Connect to Google LLMs**\n",
    "\n",
    "*Least Privilege Security.*\n",
    "\n",
    "The Notebook is \"owned\" by a bespoke Service Account created in terrafrom for this purpose.\n",
    "\n",
    "Minimal permisisons are added (also via terraform) via predefined roles (esp. Vertex) as required.\n",
    "\n",
    "This is typically triggered by a PERMISSION DENIED error"
   ]
  },
  {
   "cell_type": "code",
   "execution_count": null,
   "id": "6a370e84-4f7b-41fe-beea-bb33c5ac83aa",
   "metadata": {
    "tags": []
   },
   "outputs": [],
   "source": [
    "#import getpass\n",
    "#import os\n",
    "#from getpass import getpass\n",
    "\n",
    "#if \"GOOGLE_API_KEY\" not in os.environ:\n",
    "#os.environ[\"GOOGLE_API_KEY\"] = getpass(\"5b049155243b062e344f4dec20fa6520a2e5a6d7\")"
   ]
  },
  {
   "cell_type": "markdown",
   "id": "aecc24dd-b556-4ce7-b7e0-60dc0bcdae52",
   "metadata": {},
   "source": [
    "**GCP Code** corrected as detailed here:\n",
    "\n",
    "https://www.freecodecamp.org/news/typeerror-module-object-is-not-callable-python-error-solved/\n",
    "\n",
    "Code below **hangs** because of this issue:\n",
    "\n",
    "https://stackoverflow.com/questions/24544353/python-getpass-getpass-function-call-hangs#:~:text=getpass()%20will%20freeze%20if,...%20if%20not%20sys."
   ]
  },
  {
   "cell_type": "code",
   "execution_count": null,
   "id": "bc6314e9-e801-4103-aa9b-85c7a1befdd2",
   "metadata": {
    "tags": []
   },
   "outputs": [],
   "source": [
    "import os\n",
    "# Set It - will require regeneration\n",
    "os.environ['GOOGLE_API_KEY'] = '3a1bdf0a5c7d4c8faa1be8326e6c9620ba32de58'\n",
    "# Access the environment variable later in your code\n",
    "env_api_key = os.environ['GOOGLE_API_KEY']\n",
    "print(f\"env_api_key: {env_api_key}\")\n",
    "\n",
    "## generativelanguage.googleapis.com had to be anabled!"
   ]
  },
  {
   "cell_type": "markdown",
   "id": "a03c9d7a-f26a-40ff-9784-837c9b80d270",
   "metadata": {},
   "source": [
    "****Enable Langchain Debugging****\n",
    "\n",
    "See: https://python.langchain.com/v0.1/docs/guides/development/debugging/"
   ]
  },
  {
   "cell_type": "code",
   "execution_count": null,
   "id": "24d3fce2-7775-4b22-8b61-b4e10ae87edd",
   "metadata": {
    "tags": []
   },
   "outputs": [],
   "source": [
    "#from langchain.globals import set_debug   \n",
    "#set_debug(False)"
   ]
  },
  {
   "cell_type": "markdown",
   "id": "7550372a-5e4c-4719-966f-58bb04d19ccd",
   "metadata": {},
   "source": [
    "**Enter Node4J**\n",
    "\n",
    "Node4J Connectivity\n",
    "\n",
    "Requires singing up for free version.\n",
    "\n",
    "DB Will be stopped if not recently used and will require resuming else will fail. "
   ]
  },
  {
   "cell_type": "code",
   "execution_count": null,
   "id": "f2e2c285-73ed-41c7-ac46-eea0d3aec3b4",
   "metadata": {
    "tags": []
   },
   "outputs": [],
   "source": [
    "import os\n",
    "\n",
    "from langchain_community.graphs import Neo4jGraph\n",
    "\n",
    "os.environ[\"NEO4J_URI\"] = \"neo4j+s://a657168d.databases.neo4j.io\"\n",
    "os.environ[\"NEO4J_USERNAME\"] = \"neo4j\"\n",
    "os.environ[\"NEO4J_PASSWORD\"] = \"VM3A9Mz6usNT99nLs_lqQssfVK8JxeD81DnEiXlDkZU\"\n",
    "\n",
    "graph = Neo4jGraph()"
   ]
  },
  {
   "cell_type": "markdown",
   "id": "48151b0d-29cd-4c1b-b572-bab3a3049f9d",
   "metadata": {},
   "source": [
    "**Add to GraphDB**\n",
    "\n",
    "This statement loads Nodes & Relatonships into Node4J\n",
    "\n",
    "Thence they can be viewed/manipulated directly on the DB. "
   ]
  },
  {
   "cell_type": "code",
   "execution_count": null,
   "id": "3082a075-0722-49d0-98c8-e9b908b52284",
   "metadata": {
    "tags": []
   },
   "outputs": [],
   "source": [
    "#graph.add_graph_documents(graph_documents)"
   ]
  },
  {
   "cell_type": "markdown",
   "id": "dca3b5cd",
   "metadata": {},
   "source": [
    "**Node4J** already populated by previous Steps\n",
    "\n",
    "Code Below Initialises a Vector Store from an Existing Graph.\n",
    "\n",
    "This method pulls relevant text information from the database, and calculates and stores the text embeddings back to the database.\n",
    "\n",
    "**TBC** Vector Store and Node Vector Index are synonymous. "
   ]
  },
  {
   "cell_type": "code",
   "execution_count": null,
   "id": "57ea4f11",
   "metadata": {
    "tags": []
   },
   "outputs": [],
   "source": [
    "# Vectorisation Parameters - to be populated\n",
    "gdb_node_label = \"\"\n",
    "embedding_model = \"models/embedding-001\"\n",
    "gcpEmbedding = GoogleGenerativeAIEmbeddings(model=embedding_model)\n",
    "gcpEmbedding.google_api_key = \"5b049155243b062e344f4dec20fa6520a2e5a6d7\"\n",
    "search_string = \"\"\n",
    "test_embedding = \"hello, world!\"\n",
    "\n"
   ]
  },
  {
   "cell_type": "code",
   "execution_count": null,
   "id": "f836e93b-b085-46e8-8c62-530db588dbd3",
   "metadata": {
    "tags": []
   },
   "outputs": [],
   "source": [
    "vector = gcpEmbedding.embed_query(test_embedding)\n",
    "vector[:5]"
   ]
  },
  {
   "cell_type": "markdown",
   "id": "3d4a991b-5ef6-4013-b1ad-9cf7251f5f58",
   "metadata": {},
   "source": [
    "**Try disintermediating langchain**\n",
    "\n",
    "Example taken from: https://github.com/google-gemini/cookbook/blob/main/examples/Anomaly_detection_with_embeddings.ipynb"
   ]
  },
  {
   "cell_type": "code",
   "execution_count": null,
   "id": "3ff45d65-3295-4d9e-9485-698f416dbf4b",
   "metadata": {
    "tags": []
   },
   "outputs": [],
   "source": [
    "import google.generativeai as genai\n",
    "import google.ai.generativelanguage as glm"
   ]
  },
  {
   "cell_type": "code",
   "execution_count": null,
   "id": "105b15e6-1413-4213-b559-5364151eccf9",
   "metadata": {
    "tags": []
   },
   "outputs": [],
   "source": [
    "genai.configure(api_key=env_api_key)"
   ]
  },
  {
   "cell_type": "code",
   "execution_count": null,
   "id": "80bb3230-b421-4119-a36c-aea64ac7866e",
   "metadata": {
    "tags": []
   },
   "outputs": [],
   "source": [
    "embedding = genai.embed_content(model=embedding_model,\n",
    "                                content=test_embedding,\n",
    "                                task_type=\"SEMANTIC_SIMILARITY\")['embedding']"
   ]
  },
  {
   "cell_type": "code",
   "execution_count": null,
   "id": "cc39a904",
   "metadata": {},
   "outputs": [],
   "source": [
    "# Now we initialize from existing graph\n",
    "existing_graph = Neo4jVector.from_existing_graph(\n",
    "    embedding=gcpEmbedding,\n",
    "    url=os.environ[\"NEO4J_URI\"],\n",
    "    username=os.environ[\"NEO4J_USERNAME\"],\n",
    "    password=os.environ[\"NEO4J_PASSWORD\"],\n",
    "    index_name=\"person_index\",\n",
    "    node_label=gdb_node_label,\n",
    "    text_node_properties=[\"name\", \"location\"],\n",
    "    embedding_node_property=\"embedding\",\n",
    ")"
   ]
  },
  {
   "cell_type": "markdown",
   "id": "750949cb",
   "metadata": {},
   "source": [
    "**Perform a Search** using the Vector Search Index. "
   ]
  },
  {
   "cell_type": "code",
   "execution_count": null,
   "id": "2f2e050f",
   "metadata": {},
   "outputs": [],
   "source": [
    "result = existing_graph.similarity_search(search_string)\n",
    "result\n"
   ]
  },
  {
   "cell_type": "code",
   "execution_count": null,
   "id": "2da3a458",
   "metadata": {},
   "outputs": [],
   "source": [
    "docs_with_score = store.similarity_search_with_score(search_string)\n",
    "docs_with_score[0]"
   ]
  }
 ],
 "metadata": {
  "environment": {
   "kernel": "conda-base-py",
   "name": "workbench-notebooks.m120",
   "type": "gcloud",
   "uri": "us-docker.pkg.dev/deeplearning-platform-release/gcr.io/workbench-notebooks:m120"
  },
  "kernelspec": {
   "display_name": "Python 3 (ipykernel) (Local)",
   "language": "python",
   "name": "conda-base-py"
  },
  "language_info": {
   "codemirror_mode": {
    "name": "ipython",
    "version": 3
   },
   "file_extension": ".py",
   "mimetype": "text/x-python",
   "name": "python",
   "nbconvert_exporter": "python",
   "pygments_lexer": "ipython3",
   "version": "3.10.14"
  }
 },
 "nbformat": 4,
 "nbformat_minor": 5
}
