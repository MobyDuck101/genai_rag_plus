{
 "cells": [
  {
   "cell_type": "markdown",
   "id": "e8f9e3f7-ade1-4049-90e9-96d963538c5c",
   "metadata": {},
   "source": [
    "# Ingest Website to Graph DB\n",
    "\n",
    "## **Part 5** - Ontology Refinement using Vector Search\n",
    "\n",
    "1. Add Vectorised Indices to GrpahDB (Node4j).\n",
    "\n",
    "2. Use Semantic Proximity Searches to identify Rerlationships and Nodes which are candidates for:\n",
    "\n",
    "   1. Amalgamation - Collapsing/Simplification\n",
    "\n",
    "   2. Elimination - Not Relevant to Desired KM Use Case\n",
    "\n",
    "This is a GCP reworking of (the openai example in)\n",
    "\n",
    "https://python.langchain.com/v0.1/docs/integrations/vectorstores/neo4jvector/\n",
    "\n",
    "... and a langchain-vertexai reworking of:\n",
    "\n",
    "https://python.langchain.com/v0.1/docs/integrations/text_embedding/google_generative_ai/\n",
    "\n",
    "This is becuase currently at BJSS we cvant get access to the Gemini API Keys. \n",
    "\n",
    "This notebook is **langchain-google-genai independant** for the avoidance of doubt.\n",
    "\n",
    "There are no copied class files in this notebook. \n",
    "\n",
    "The Resultant Graph can be used within Node and Relationship Filters on the Full Corpus of Interest - in this case **Generative AI**. "
   ]
  },
  {
   "cell_type": "markdown",
   "id": "26dc7be2-2b92-4eac-b67b-7acbfcec56bd",
   "metadata": {},
   "source": [
    "##### **Minimal install for Vertex AI**\n",
    "\n",
    "This solved the instability problem by *NOT* installing OpenAI classes via the community install. "
   ]
  },
  {
   "cell_type": "code",
   "execution_count": 1,
   "id": "c9d33f38-6324-4175-8689-d4e8f278c8ee",
   "metadata": {
    "tags": []
   },
   "outputs": [
    {
     "name": "stdout",
     "output_type": "stream",
     "text": [
      "Collecting langchain\n",
      "  Downloading langchain-0.1.20-py3-none-any.whl.metadata (13 kB)\n",
      "Collecting langchain-google-vertexai\n",
      "  Downloading langchain_google_vertexai-1.0.3-py3-none-any.whl.metadata (3.7 kB)\n",
      "Collecting neo4j\n",
      "  Downloading neo4j-5.20.0.tar.gz (202 kB)\n",
      "\u001b[2K     \u001b[90m━━━━━━━━━━━━━━━━━━━━━━━━━━━━━━━━━━━━━━\u001b[0m \u001b[32m203.0/203.0 kB\u001b[0m \u001b[31m10.3 MB/s\u001b[0m eta \u001b[36m0:00:00\u001b[0m\n",
      "\u001b[?25h  Installing build dependencies ... \u001b[?25ldone\n",
      "\u001b[?25h  Getting requirements to build wheel ... \u001b[?25ldone\n",
      "\u001b[?25h  Installing backend dependencies ... \u001b[?25ldone\n",
      "\u001b[?25h  Preparing metadata (pyproject.toml) ... \u001b[?25ldone\n",
      "\u001b[?25hRequirement already satisfied: PyYAML>=5.3 in /opt/conda/lib/python3.10/site-packages (from langchain) (6.0.1)\n",
      "Requirement already satisfied: SQLAlchemy<3,>=1.4 in /opt/conda/lib/python3.10/site-packages (from langchain) (2.0.30)\n",
      "Requirement already satisfied: aiohttp<4.0.0,>=3.8.3 in /opt/conda/lib/python3.10/site-packages (from langchain) (3.9.5)\n",
      "Requirement already satisfied: async-timeout<5.0.0,>=4.0.0 in /opt/conda/lib/python3.10/site-packages (from langchain) (4.0.3)\n",
      "Collecting dataclasses-json<0.7,>=0.5.7 (from langchain)\n",
      "  Downloading dataclasses_json-0.6.6-py3-none-any.whl.metadata (25 kB)\n",
      "Collecting langchain-community<0.1,>=0.0.38 (from langchain)\n",
      "  Downloading langchain_community-0.0.38-py3-none-any.whl.metadata (8.7 kB)\n",
      "Collecting langchain-core<0.2.0,>=0.1.52 (from langchain)\n",
      "  Downloading langchain_core-0.1.52-py3-none-any.whl.metadata (5.9 kB)\n",
      "Collecting langchain-text-splitters<0.1,>=0.0.1 (from langchain)\n",
      "  Downloading langchain_text_splitters-0.0.2-py3-none-any.whl.metadata (2.2 kB)\n",
      "Collecting langsmith<0.2.0,>=0.1.17 (from langchain)\n",
      "  Downloading langsmith-0.1.59-py3-none-any.whl.metadata (13 kB)\n",
      "Requirement already satisfied: numpy<2,>=1 in /opt/conda/lib/python3.10/site-packages (from langchain) (1.26.4)\n",
      "Requirement already satisfied: pydantic<3,>=1 in /opt/conda/lib/python3.10/site-packages (from langchain) (2.7.1)\n",
      "Requirement already satisfied: requests<3,>=2 in /opt/conda/lib/python3.10/site-packages (from langchain) (2.31.0)\n",
      "Requirement already satisfied: tenacity<9.0.0,>=8.1.0 in /opt/conda/lib/python3.10/site-packages (from langchain) (8.3.0)\n",
      "Requirement already satisfied: google-cloud-aiplatform<2.0.0,>=1.47.0 in /opt/conda/lib/python3.10/site-packages (from langchain-google-vertexai) (1.51.0)\n",
      "Requirement already satisfied: google-cloud-storage<3.0.0,>=2.14.0 in /opt/conda/lib/python3.10/site-packages (from langchain-google-vertexai) (2.14.0)\n",
      "Collecting types-protobuf<5.0.0.0,>=4.24.0.4 (from langchain-google-vertexai)\n",
      "  Downloading types_protobuf-4.25.0.20240417-py3-none-any.whl.metadata (2.0 kB)\n",
      "Collecting types-requests<3.0.0,>=2.31.0 (from langchain-google-vertexai)\n",
      "  Downloading types_requests-2.31.0.20240406-py3-none-any.whl.metadata (1.8 kB)\n",
      "Requirement already satisfied: pytz in /opt/conda/lib/python3.10/site-packages (from neo4j) (2024.1)\n",
      "Requirement already satisfied: aiosignal>=1.1.2 in /opt/conda/lib/python3.10/site-packages (from aiohttp<4.0.0,>=3.8.3->langchain) (1.3.1)\n",
      "Requirement already satisfied: attrs>=17.3.0 in /opt/conda/lib/python3.10/site-packages (from aiohttp<4.0.0,>=3.8.3->langchain) (23.2.0)\n",
      "Requirement already satisfied: frozenlist>=1.1.1 in /opt/conda/lib/python3.10/site-packages (from aiohttp<4.0.0,>=3.8.3->langchain) (1.4.1)\n",
      "Requirement already satisfied: multidict<7.0,>=4.5 in /opt/conda/lib/python3.10/site-packages (from aiohttp<4.0.0,>=3.8.3->langchain) (6.0.5)\n",
      "Requirement already satisfied: yarl<2.0,>=1.0 in /opt/conda/lib/python3.10/site-packages (from aiohttp<4.0.0,>=3.8.3->langchain) (1.9.4)\n",
      "Collecting marshmallow<4.0.0,>=3.18.0 (from dataclasses-json<0.7,>=0.5.7->langchain)\n",
      "  Downloading marshmallow-3.21.2-py3-none-any.whl.metadata (7.1 kB)\n",
      "Collecting typing-inspect<1,>=0.4.0 (from dataclasses-json<0.7,>=0.5.7->langchain)\n",
      "  Downloading typing_inspect-0.9.0-py3-none-any.whl.metadata (1.5 kB)\n",
      "Requirement already satisfied: google-api-core!=2.0.*,!=2.1.*,!=2.2.*,!=2.3.*,!=2.4.*,!=2.5.*,!=2.6.*,!=2.7.*,<3.0.0dev,>=1.34.1 in /opt/conda/lib/python3.10/site-packages (from google-api-core[grpc]!=2.0.*,!=2.1.*,!=2.2.*,!=2.3.*,!=2.4.*,!=2.5.*,!=2.6.*,!=2.7.*,<3.0.0dev,>=1.34.1->google-cloud-aiplatform<2.0.0,>=1.47.0->langchain-google-vertexai) (1.34.1)\n",
      "Requirement already satisfied: google-auth<3.0.0dev,>=2.14.1 in /opt/conda/lib/python3.10/site-packages (from google-cloud-aiplatform<2.0.0,>=1.47.0->langchain-google-vertexai) (2.29.0)\n",
      "Requirement already satisfied: proto-plus<2.0.0dev,>=1.22.0 in /opt/conda/lib/python3.10/site-packages (from google-cloud-aiplatform<2.0.0,>=1.47.0->langchain-google-vertexai) (1.23.0)\n",
      "Requirement already satisfied: protobuf!=3.20.0,!=3.20.1,!=4.21.0,!=4.21.1,!=4.21.2,!=4.21.3,!=4.21.4,!=4.21.5,<5.0.0dev,>=3.19.5 in /opt/conda/lib/python3.10/site-packages (from google-cloud-aiplatform<2.0.0,>=1.47.0->langchain-google-vertexai) (3.20.3)\n",
      "Requirement already satisfied: packaging>=14.3 in /opt/conda/lib/python3.10/site-packages (from google-cloud-aiplatform<2.0.0,>=1.47.0->langchain-google-vertexai) (24.0)\n",
      "Requirement already satisfied: google-cloud-bigquery!=3.20.0,<4.0.0dev,>=1.15.0 in /opt/conda/lib/python3.10/site-packages (from google-cloud-aiplatform<2.0.0,>=1.47.0->langchain-google-vertexai) (3.22.0)\n",
      "Requirement already satisfied: google-cloud-resource-manager<3.0.0dev,>=1.3.3 in /opt/conda/lib/python3.10/site-packages (from google-cloud-aiplatform<2.0.0,>=1.47.0->langchain-google-vertexai) (1.12.3)\n",
      "Requirement already satisfied: shapely<3.0.0dev in /opt/conda/lib/python3.10/site-packages (from google-cloud-aiplatform<2.0.0,>=1.47.0->langchain-google-vertexai) (2.0.4)\n",
      "Requirement already satisfied: docstring-parser<1 in /opt/conda/lib/python3.10/site-packages (from google-cloud-aiplatform<2.0.0,>=1.47.0->langchain-google-vertexai) (0.16)\n",
      "Requirement already satisfied: google-cloud-core<3.0dev,>=2.3.0 in /opt/conda/lib/python3.10/site-packages (from google-cloud-storage<3.0.0,>=2.14.0->langchain-google-vertexai) (2.4.1)\n",
      "Requirement already satisfied: google-resumable-media>=2.6.0 in /opt/conda/lib/python3.10/site-packages (from google-cloud-storage<3.0.0,>=2.14.0->langchain-google-vertexai) (2.7.0)\n",
      "Requirement already satisfied: google-crc32c<2.0dev,>=1.0 in /opt/conda/lib/python3.10/site-packages (from google-cloud-storage<3.0.0,>=2.14.0->langchain-google-vertexai) (1.5.0)\n",
      "Requirement already satisfied: jsonpatch<2.0,>=1.33 in /opt/conda/lib/python3.10/site-packages (from langchain-core<0.2.0,>=0.1.52->langchain) (1.33)\n",
      "Collecting packaging>=14.3 (from google-cloud-aiplatform<2.0.0,>=1.47.0->langchain-google-vertexai)\n",
      "  Downloading packaging-23.2-py3-none-any.whl.metadata (3.2 kB)\n",
      "Requirement already satisfied: orjson<4.0.0,>=3.9.14 in /opt/conda/lib/python3.10/site-packages (from langsmith<0.2.0,>=0.1.17->langchain) (3.10.3)\n",
      "Requirement already satisfied: annotated-types>=0.4.0 in /opt/conda/lib/python3.10/site-packages (from pydantic<3,>=1->langchain) (0.6.0)\n",
      "Requirement already satisfied: pydantic-core==2.18.2 in /opt/conda/lib/python3.10/site-packages (from pydantic<3,>=1->langchain) (2.18.2)\n",
      "Requirement already satisfied: typing-extensions>=4.6.1 in /opt/conda/lib/python3.10/site-packages (from pydantic<3,>=1->langchain) (4.11.0)\n",
      "Requirement already satisfied: charset-normalizer<4,>=2 in /opt/conda/lib/python3.10/site-packages (from requests<3,>=2->langchain) (3.3.2)\n",
      "Requirement already satisfied: idna<4,>=2.5 in /opt/conda/lib/python3.10/site-packages (from requests<3,>=2->langchain) (3.7)\n",
      "Requirement already satisfied: urllib3<3,>=1.21.1 in /opt/conda/lib/python3.10/site-packages (from requests<3,>=2->langchain) (1.26.18)\n",
      "Requirement already satisfied: certifi>=2017.4.17 in /opt/conda/lib/python3.10/site-packages (from requests<3,>=2->langchain) (2024.2.2)\n",
      "Requirement already satisfied: greenlet!=0.4.17 in /opt/conda/lib/python3.10/site-packages (from SQLAlchemy<3,>=1.4->langchain) (3.0.3)\n",
      "Collecting urllib3<3,>=1.21.1 (from requests<3,>=2->langchain)\n",
      "  Downloading urllib3-2.2.1-py3-none-any.whl.metadata (6.4 kB)\n",
      "Requirement already satisfied: googleapis-common-protos<2.0dev,>=1.56.2 in /opt/conda/lib/python3.10/site-packages (from google-api-core!=2.0.*,!=2.1.*,!=2.2.*,!=2.3.*,!=2.4.*,!=2.5.*,!=2.6.*,!=2.7.*,<3.0.0dev,>=1.34.1->google-api-core[grpc]!=2.0.*,!=2.1.*,!=2.2.*,!=2.3.*,!=2.4.*,!=2.5.*,!=2.6.*,!=2.7.*,<3.0.0dev,>=1.34.1->google-cloud-aiplatform<2.0.0,>=1.47.0->langchain-google-vertexai) (1.63.0)\n",
      "Requirement already satisfied: grpcio<2.0dev,>=1.33.2 in /opt/conda/lib/python3.10/site-packages (from google-api-core[grpc]!=2.0.*,!=2.1.*,!=2.2.*,!=2.3.*,!=2.4.*,!=2.5.*,!=2.6.*,!=2.7.*,<3.0.0dev,>=1.34.1->google-cloud-aiplatform<2.0.0,>=1.47.0->langchain-google-vertexai) (1.63.0)\n",
      "Requirement already satisfied: grpcio-status<2.0dev,>=1.33.2 in /opt/conda/lib/python3.10/site-packages (from google-api-core[grpc]!=2.0.*,!=2.1.*,!=2.2.*,!=2.3.*,!=2.4.*,!=2.5.*,!=2.6.*,!=2.7.*,<3.0.0dev,>=1.34.1->google-cloud-aiplatform<2.0.0,>=1.47.0->langchain-google-vertexai) (1.48.2)\n",
      "Requirement already satisfied: cachetools<6.0,>=2.0.0 in /opt/conda/lib/python3.10/site-packages (from google-auth<3.0.0dev,>=2.14.1->google-cloud-aiplatform<2.0.0,>=1.47.0->langchain-google-vertexai) (5.3.3)\n",
      "Requirement already satisfied: pyasn1-modules>=0.2.1 in /opt/conda/lib/python3.10/site-packages (from google-auth<3.0.0dev,>=2.14.1->google-cloud-aiplatform<2.0.0,>=1.47.0->langchain-google-vertexai) (0.4.0)\n",
      "Requirement already satisfied: rsa<5,>=3.1.4 in /opt/conda/lib/python3.10/site-packages (from google-auth<3.0.0dev,>=2.14.1->google-cloud-aiplatform<2.0.0,>=1.47.0->langchain-google-vertexai) (4.9)\n",
      "Requirement already satisfied: python-dateutil<3.0dev,>=2.7.2 in /opt/conda/lib/python3.10/site-packages (from google-cloud-bigquery!=3.20.0,<4.0.0dev,>=1.15.0->google-cloud-aiplatform<2.0.0,>=1.47.0->langchain-google-vertexai) (2.9.0)\n",
      "Requirement already satisfied: grpc-google-iam-v1<1.0.0dev,>=0.12.4 in /opt/conda/lib/python3.10/site-packages (from google-cloud-resource-manager<3.0.0dev,>=1.3.3->google-cloud-aiplatform<2.0.0,>=1.47.0->langchain-google-vertexai) (0.13.0)\n",
      "Requirement already satisfied: jsonpointer>=1.9 in /opt/conda/lib/python3.10/site-packages (from jsonpatch<2.0,>=1.33->langchain-core<0.2.0,>=0.1.52->langchain) (2.4)\n",
      "Collecting mypy-extensions>=0.3.0 (from typing-inspect<1,>=0.4.0->dataclasses-json<0.7,>=0.5.7->langchain)\n",
      "  Downloading mypy_extensions-1.0.0-py3-none-any.whl.metadata (1.1 kB)\n",
      "Requirement already satisfied: pyasn1<0.7.0,>=0.4.6 in /opt/conda/lib/python3.10/site-packages (from pyasn1-modules>=0.2.1->google-auth<3.0.0dev,>=2.14.1->google-cloud-aiplatform<2.0.0,>=1.47.0->langchain-google-vertexai) (0.6.0)\n",
      "Requirement already satisfied: six>=1.5 in /opt/conda/lib/python3.10/site-packages (from python-dateutil<3.0dev,>=2.7.2->google-cloud-bigquery!=3.20.0,<4.0.0dev,>=1.15.0->google-cloud-aiplatform<2.0.0,>=1.47.0->langchain-google-vertexai) (1.16.0)\n",
      "Downloading langchain-0.1.20-py3-none-any.whl (1.0 MB)\n",
      "\u001b[2K   \u001b[90m━━━━━━━━━━━━━━━━━━━━━━━━━━━━━━━━━━━━━━━━\u001b[0m \u001b[32m1.0/1.0 MB\u001b[0m \u001b[31m45.2 MB/s\u001b[0m eta \u001b[36m0:00:00\u001b[0m\n",
      "\u001b[?25hDownloading langchain_google_vertexai-1.0.3-py3-none-any.whl (55 kB)\n",
      "\u001b[2K   \u001b[90m━━━━━━━━━━━━━━━━━━━━━━━━━━━━━━━━━━━━━━━━\u001b[0m \u001b[32m55.8/55.8 kB\u001b[0m \u001b[31m6.0 MB/s\u001b[0m eta \u001b[36m0:00:00\u001b[0m\n",
      "\u001b[?25hDownloading dataclasses_json-0.6.6-py3-none-any.whl (28 kB)\n",
      "Downloading langchain_community-0.0.38-py3-none-any.whl (2.0 MB)\n",
      "\u001b[2K   \u001b[90m━━━━━━━━━━━━━━━━━━━━━━━━━━━━━━━━━━━━━━━━\u001b[0m \u001b[32m2.0/2.0 MB\u001b[0m \u001b[31m79.1 MB/s\u001b[0m eta \u001b[36m0:00:00\u001b[0m\n",
      "\u001b[?25hDownloading langchain_core-0.1.52-py3-none-any.whl (302 kB)\n",
      "\u001b[2K   \u001b[90m━━━━━━━━━━━━━━━━━━━━━━━━━━━━━━━━━━━━━━━━\u001b[0m \u001b[32m302.9/302.9 kB\u001b[0m \u001b[31m26.1 MB/s\u001b[0m eta \u001b[36m0:00:00\u001b[0m\n",
      "\u001b[?25hDownloading langchain_text_splitters-0.0.2-py3-none-any.whl (23 kB)\n",
      "Downloading langsmith-0.1.59-py3-none-any.whl (121 kB)\n",
      "\u001b[2K   \u001b[90m━━━━━━━━━━━━━━━━━━━━━━━━━━━━━━━━━━━━━━━━\u001b[0m \u001b[32m121.2/121.2 kB\u001b[0m \u001b[31m14.3 MB/s\u001b[0m eta \u001b[36m0:00:00\u001b[0m\n",
      "\u001b[?25hDownloading types_protobuf-4.25.0.20240417-py3-none-any.whl (67 kB)\n",
      "\u001b[2K   \u001b[90m━━━━━━━━━━━━━━━━━━━━━━━━━━━━━━━━━━━━━━━━\u001b[0m \u001b[32m67.9/67.9 kB\u001b[0m \u001b[31m7.5 MB/s\u001b[0m eta \u001b[36m0:00:00\u001b[0m\n",
      "\u001b[?25hDownloading types_requests-2.31.0.20240406-py3-none-any.whl (15 kB)\n",
      "Downloading marshmallow-3.21.2-py3-none-any.whl (49 kB)\n",
      "\u001b[2K   \u001b[90m━━━━━━━━━━━━━━━━━━━━━━━━━━━━━━━━━━━━━━━━\u001b[0m \u001b[32m49.3/49.3 kB\u001b[0m \u001b[31m6.7 MB/s\u001b[0m eta \u001b[36m0:00:00\u001b[0m\n",
      "\u001b[?25hDownloading packaging-23.2-py3-none-any.whl (53 kB)\n",
      "\u001b[2K   \u001b[90m━━━━━━━━━━━━━━━━━━━━━━━━━━━━━━━━━━━━━━━━\u001b[0m \u001b[32m53.0/53.0 kB\u001b[0m \u001b[31m6.4 MB/s\u001b[0m eta \u001b[36m0:00:00\u001b[0m\n",
      "\u001b[?25hDownloading typing_inspect-0.9.0-py3-none-any.whl (8.8 kB)\n",
      "Downloading urllib3-2.2.1-py3-none-any.whl (121 kB)\n",
      "\u001b[2K   \u001b[90m━━━━━━━━━━━━━━━━━━━━━━━━━━━━━━━━━━━━━━━━\u001b[0m \u001b[32m121.1/121.1 kB\u001b[0m \u001b[31m13.6 MB/s\u001b[0m eta \u001b[36m0:00:00\u001b[0m\n",
      "\u001b[?25hDownloading mypy_extensions-1.0.0-py3-none-any.whl (4.7 kB)\n",
      "Building wheels for collected packages: neo4j\n",
      "  Building wheel for neo4j (pyproject.toml) ... \u001b[?25ldone\n",
      "\u001b[?25h  Created wheel for neo4j: filename=neo4j-5.20.0-py3-none-any.whl size=280771 sha256=8a1cd91916c9e01a5d794684a06c255e7d37eadba3d2d1451e78abab16c301e7\n",
      "  Stored in directory: /home/jupyter/.cache/pip/wheels/cb/12/66/764554d079caad4b9a11a02cfc0d200dd876d12935b9cf7e64\n",
      "Successfully built neo4j\n",
      "Installing collected packages: urllib3, types-protobuf, packaging, neo4j, mypy-extensions, typing-inspect, types-requests, marshmallow, langsmith, dataclasses-json, langchain-core, langchain-text-splitters, langchain-community, langchain, langchain-google-vertexai\n",
      "  Attempting uninstall: urllib3\n",
      "    Found existing installation: urllib3 1.26.18\n",
      "    Uninstalling urllib3-1.26.18:\n",
      "      Successfully uninstalled urllib3-1.26.18\n",
      "  Attempting uninstall: packaging\n",
      "    Found existing installation: packaging 24.0\n",
      "    Uninstalling packaging-24.0:\n",
      "      Successfully uninstalled packaging-24.0\n",
      "\u001b[31mERROR: pip's dependency resolver does not currently take into account all the packages that are installed. This behaviour is the source of the following dependency conflicts.\n",
      "kfp 2.5.0 requires urllib3<2.0.0, but you have urllib3 2.2.1 which is incompatible.\u001b[0m\u001b[31m\n",
      "\u001b[0mSuccessfully installed dataclasses-json-0.6.6 langchain-0.1.20 langchain-community-0.0.38 langchain-core-0.1.52 langchain-google-vertexai-1.0.3 langchain-text-splitters-0.0.2 langsmith-0.1.59 marshmallow-3.21.2 mypy-extensions-1.0.0 neo4j-5.20.0 packaging-23.2 types-protobuf-4.25.0.20240417 types-requests-2.31.0.20240406 typing-inspect-0.9.0 urllib3-2.2.1\n",
      "Note: you may need to restart the kernel to use updated packages.\n"
     ]
    }
   ],
   "source": [
    "pip install -U langchain langchain-google-vertexai neo4j"
   ]
  },
  {
   "cell_type": "markdown",
   "id": "fb9ccb08-3868-4a2b-9eda-6dab0e99b53e",
   "metadata": {},
   "source": [
    "**Check Version Nos of what was installed**"
   ]
  },
  {
   "cell_type": "code",
   "execution_count": 1,
   "id": "d9709e6a-f98c-4e5e-b7b1-b734db5ae1e9",
   "metadata": {
    "tags": []
   },
   "outputs": [
    {
     "name": "stdout",
     "output_type": "stream",
     "text": [
      "\u001b[33mWARNING: Package(s) not found: langchain-experimental\u001b[0m\u001b[33m\n",
      "\u001b[0mName: langchain\n",
      "Version: 0.1.20\n",
      "Summary: Building applications with LLMs through composability\n",
      "Home-page: https://github.com/langchain-ai/langchain\n",
      "Author: \n",
      "Author-email: \n",
      "License: MIT\n",
      "Location: /opt/conda/lib/python3.10/site-packages\n",
      "Requires: aiohttp, async-timeout, dataclasses-json, langchain-community, langchain-core, langchain-text-splitters, langsmith, numpy, pydantic, PyYAML, requests, SQLAlchemy, tenacity\n",
      "Required-by: \n",
      "---\n",
      "Name: langchain-core\n",
      "Version: 0.1.52\n",
      "Summary: Building applications with LLMs through composability\n",
      "Home-page: https://github.com/langchain-ai/langchain\n",
      "Author: \n",
      "Author-email: \n",
      "License: MIT\n",
      "Location: /opt/conda/lib/python3.10/site-packages\n",
      "Requires: jsonpatch, langsmith, packaging, pydantic, PyYAML, tenacity\n",
      "Required-by: langchain, langchain-community, langchain-google-vertexai, langchain-text-splitters\n",
      "---\n",
      "Name: langchain-google-vertexai\n",
      "Version: 1.0.3\n",
      "Summary: An integration package connecting Google VertexAI and LangChain\n",
      "Home-page: https://github.com/langchain-ai/langchain-google\n",
      "Author: \n",
      "Author-email: \n",
      "License: MIT\n",
      "Location: /opt/conda/lib/python3.10/site-packages\n",
      "Requires: google-cloud-aiplatform, google-cloud-storage, langchain-core, types-protobuf, types-requests\n",
      "Required-by: \n",
      "---\n",
      "Name: langchain-community\n",
      "Version: 0.0.38\n",
      "Summary: Community contributed LangChain integrations.\n",
      "Home-page: https://github.com/langchain-ai/langchain\n",
      "Author: \n",
      "Author-email: \n",
      "License: MIT\n",
      "Location: /opt/conda/lib/python3.10/site-packages\n",
      "Requires: aiohttp, dataclasses-json, langchain-core, langsmith, numpy, PyYAML, requests, SQLAlchemy, tenacity\n",
      "Required-by: langchain\n",
      "---\n",
      "Name: neo4j\n",
      "Version: 5.20.0\n",
      "Summary: Neo4j Bolt driver for Python\n",
      "Home-page: \n",
      "Author: \n",
      "Author-email: \"Neo4j, Inc.\" <drivers@neo4j.com>\n",
      "License: Apache License, Version 2.0\n",
      "Location: /opt/conda/lib/python3.10/site-packages\n",
      "Requires: pytz\n",
      "Required-by: \n",
      "---\n",
      "Name: google-cloud-aiplatform\n",
      "Version: 1.51.0\n",
      "Summary: Vertex AI API client library\n",
      "Home-page: https://github.com/googleapis/python-aiplatform\n",
      "Author: Google LLC\n",
      "Author-email: googleapis-packages@google.com\n",
      "License: Apache 2.0\n",
      "Location: /opt/conda/lib/python3.10/site-packages\n",
      "Requires: docstring-parser, google-api-core, google-auth, google-cloud-bigquery, google-cloud-resource-manager, google-cloud-storage, packaging, proto-plus, protobuf, pydantic, shapely\n",
      "Required-by: langchain-google-vertexai\n"
     ]
    }
   ],
   "source": [
    "!pip show langchain langchain-core langchain-google-vertexai langchain-experimental langchain-community neo4j google-cloud-aiplatform"
   ]
  },
  {
   "cell_type": "markdown",
   "id": "3475874d-7cdc-4e51-8a0c-50421f4a3d70",
   "metadata": {},
   "source": [
    "**Check Jupyter Version No**"
   ]
  },
  {
   "cell_type": "code",
   "execution_count": 2,
   "id": "332bfcdc-8d2c-410d-8473-c4cb65ad3d4a",
   "metadata": {
    "tags": []
   },
   "outputs": [
    {
     "name": "stdout",
     "output_type": "stream",
     "text": [
      "Selected Jupyter core packages...\n",
      "IPython          : 8.21.0\n",
      "ipykernel        : 6.29.4\n",
      "ipywidgets       : 8.1.2\n",
      "jupyter_client   : 7.4.9\n",
      "jupyter_core     : 5.7.2\n",
      "jupyter_server   : 1.24.0\n",
      "jupyterlab       : 3.4.8\n",
      "nbclient         : 0.10.0\n",
      "nbconvert        : 7.16.4\n",
      "nbformat         : 5.10.4\n",
      "notebook         : 6.5.7\n",
      "qtconsole        : not installed\n",
      "traitlets        : 5.14.3\n"
     ]
    }
   ],
   "source": [
    "!jupyter --version"
   ]
  },
  {
   "cell_type": "markdown",
   "id": "d38b224b-03e5-4068-a564-2fa642cab286",
   "metadata": {},
   "source": [
    "**Check Python Version/Path** - *Expect 3.10.14*"
   ]
  },
  {
   "cell_type": "code",
   "execution_count": 3,
   "id": "dea00fad-2121-4150-a520-60d8ca5c8f1e",
   "metadata": {
    "tags": []
   },
   "outputs": [
    {
     "name": "stdout",
     "output_type": "stream",
     "text": [
      "3.10.14 | packaged by conda-forge | (main, Mar 20 2024, 12:45:18) [GCC 12.3.0]\n",
      "3.10.14\n",
      "['/opt/conda/lib/python310.zip', '/opt/conda/lib/python3.10', '/opt/conda/lib/python3.10/lib-dynload', '', '/opt/conda/lib/python3.10/site-packages']\n"
     ]
    }
   ],
   "source": [
    "import sys\n",
    "import platform\n",
    "print(sys.version)\n",
    "print(platform.python_version())\n",
    "print(sys.path)"
   ]
  },
  {
   "cell_type": "markdown",
   "id": "ab4cc7f4-ee89-4e5e-bd61-054c71931ffd",
   "metadata": {},
   "source": [
    "**Now for the Imports**\n",
    "\n",
    "This time we are isloating Vertex AI"
   ]
  },
  {
   "cell_type": "code",
   "execution_count": 4,
   "id": "3d481da2-9163-4b87-818f-1738600c3781",
   "metadata": {
    "tags": []
   },
   "outputs": [],
   "source": [
    "import os\n",
    "from langchain.globals import set_debug\n",
    "from langchain_google_vertexai import VertexAIEmbeddings\n",
    "from langchain_community.graphs import Neo4jGraph\n",
    "from langchain_community.vectorstores import Neo4jVector"
   ]
  },
  {
   "cell_type": "markdown",
   "id": "b7a1967b-907b-4635-9d14-29c51de06016",
   "metadata": {},
   "source": [
    "##### **Connect to Google LLMs**\n",
    "\n",
    "This API KEY approach works with **langchain-google-vertexai** but **_not_** with **langchain-google-genai**\n",
    "\n",
    "*Least Privilege Security.*\n",
    "\n",
    "The Notebook is \"owned\" by a bespoke Service Account created in terrafrom for this purpose.\n",
    "\n",
    "Minimal permisisons are added (also via terraform) via predefined roles (esp. Vertex) as required.\n",
    "\n",
    "This is typically triggered by a PERMISSION DENIED error"
   ]
  },
  {
   "cell_type": "code",
   "execution_count": 18,
   "id": "bc6314e9-e801-4103-aa9b-85c7a1befdd2",
   "metadata": {
    "tags": []
   },
   "outputs": [
    {
     "name": "stdout",
     "output_type": "stream",
     "text": [
      "env_api_key: 3545f2eca2d32f3e27d031774fda2fee227c593f\n"
     ]
    }
   ],
   "source": [
    "# Set It - will require regeneration\n",
    "os.environ['GOOGLE_API_KEY'] = '3545f2eca2d32f3e27d031774fda2fee227c593f'\n",
    "# Access the environment variable later in your code\n",
    "env_api_key = os.environ['GOOGLE_API_KEY']\n",
    "print(f\"env_api_key: {env_api_key}\")\n",
    "PROJECT_ID = \"nlp-dev-6aae\"\n",
    "test_embedding = \"hello, world!\"\n",
    "search_string = \"Person\""
   ]
  },
  {
   "cell_type": "markdown",
   "id": "a03c9d7a-f26a-40ff-9784-837c9b80d270",
   "metadata": {},
   "source": [
    "****Enable Langchain Debugging****\n",
    "\n",
    "See: https://python.langchain.com/v0.1/docs/guides/development/debugging/"
   ]
  },
  {
   "cell_type": "code",
   "execution_count": 21,
   "id": "24d3fce2-7775-4b22-8b61-b4e10ae87edd",
   "metadata": {
    "tags": []
   },
   "outputs": [],
   "source": [
    "# Currently Disabled, Set to True to enable\n",
    "set_debug(True)"
   ]
  },
  {
   "cell_type": "markdown",
   "id": "88a2b08b-8722-41ae-a5aa-4dda5af5f7ad",
   "metadata": {},
   "source": [
    "##### **Create The Embeddings**\n",
    "\n",
    "This proves basc connectivity & functionality of the GCP Embedding Model for GenAI\n",
    "\n",
    "Sourced from here: https://python.langchain.com/v0.1/docs/integrations/platforms/google/"
   ]
  },
  {
   "cell_type": "code",
   "execution_count": 12,
   "id": "5a9c76ea-8232-4404-b82a-8d344ae786b7",
   "metadata": {
    "tags": []
   },
   "outputs": [
    {
     "name": "stdout",
     "output_type": "stream",
     "text": [
      "test_embedding: hello, world!\n",
      "query_result: [0.052017416805028915, -0.030953068286180496, -0.030846256762742996, -0.028158482164144516, 0.01781940646469593, -0.0019130000146105886, 0.028597984462976456, -0.007565246894955635, 0.010808120481669903, -0.0057900105603039265, 0.03907504677772522, 0.05087621137499809, -0.00807026494294405, -0.06057383120059967, -0.006879169028252363, -0.02224457450211048, 0.013218574225902557, -0.008559225127100945, -0.000701079610735178, -0.0029124850407242775, -0.003639709437265992, 0.009413229301571846, -0.02782364934682846, -0.030522421002388, 0.021218476817011833, 0.011880539357662201, -0.0013187489239498973, -0.07345182448625565, 0.012441609054803848, 0.05887635052204132, -0.03551314026117325, 0.017118927091360092, -0.05440368875861168, 0.006286651361733675, 0.03878151252865791, -0.05733191594481468, 0.03970646485686302, 0.009752064943313599, -0.0015157802263274789, -0.0001953284372575581, 0.02433612570166588, -0.09208427369594574, -0.04463260993361473, -0.03931533545255661, 0.04561822488903999, 0.00047704807366244495, 0.01150293368846178, -0.004203536547720432, 0.01651550829410553, -0.09122700989246368, 0.04909500107169151, 0.021148312836885452, 0.043926600366830826, -0.015271183103322983, 0.024524729698896408, -0.0024664157535880804, 0.08836425840854645, 0.019602123647928238, -0.07974427938461304, 0.010006649419665337, 0.027571216225624084, 0.020052272826433182, -0.018717272207140923, 0.06323923170566559, -0.00013803622277919203, -0.017756110057234764, -0.06160055100917816, 0.04576706886291504, 0.03381899371743202, -0.024052856490015984, -0.0033854458015412092, -0.01895219460129738, 0.03358568996191025, -0.04051649570465088, -0.03342173993587494, -0.05557567626237869, -0.017061404883861542, 0.02612229809165001, -0.020107202231884003, -0.006951904855668545, -0.02818247117102146, -0.0666709691286087, -0.02128857746720314, -0.023085838183760643, -0.09147495776414871, 0.029588617384433746, -0.02521347440779209, 0.02841271087527275, -0.002889411523938179, 0.07220722734928131, 0.005518046673387289, -0.03140002861618996, 0.0569126158952713, -0.050934672355651855, -0.04317434877157211, 0.03413934260606766, -0.010713869705796242, -0.02865658327937126, -0.006556428503245115, -0.06103530526161194, 0.02670097164809704, -0.05794665217399597, -0.028513383120298386, -0.008821786381304264, 0.039714474231004715, 0.025755852460861206, -0.021185198798775673, 0.01326008327305317, -0.011756066232919693, 0.03272015601396561, -0.04583068937063217, 0.053332965821027756, -0.04948053136467934, -0.01280213426798582, 0.006502775941044092, 0.016861863434314728, 0.00012157049786765128, 0.09957622736692429, 0.012111159041523933, 0.06366859376430511, -0.022582653909921646, -0.014288528822362423, 0.02197062410414219, -0.015687286853790283, -0.0038507492281496525, 0.012825644575059414, 0.035347506403923035, 0.04698863998055458, 0.03447207063436508, 0.006028901785612106, -0.019443660974502563, -0.06296027451753616, 0.0718306228518486, 0.0030962403398007154, 0.028793342411518097, 0.041230879724025726, 0.07683487236499786, -0.01982012577354908, 0.003673404222354293, 0.008024410344660282, -0.01604815572500229, -0.0003189382259733975, -0.02720027230679989, 0.005094766616821289, -0.02584880217909813, 0.02662981115281582, -0.013737031258642673, -0.04802684858441353, 0.00826629251241684, -0.05234410986304283, -0.0017902774270623922, -0.0022897326853126287, -0.05965244770050049, -0.0034735582303255796, 0.07859615981578827, -0.008033276535570621, -0.03278796002268791, 0.01570744253695011, 0.04907704144716263, -0.007219632156193256, 0.00991555955260992, -0.028432104736566544, 0.06694663316011429, 0.0013789664953947067, -0.02442484349012375, -0.03621305152773857, -0.015291264280676842, -0.017262639477849007, -0.02790595404803753, 0.018894195556640625, 0.0110752172768116, 0.011081615462899208, -0.02038422040641308, -0.05398464575409889, 0.003412511432543397, -0.051982779055833817, 0.034424446523189545, -0.010213641449809074, -0.043369192630052567, -0.01483414601534605, -0.04012412205338478, 0.0023359886836260557, 0.016747232526540756, 0.020731573924422264, 0.000648544926661998, 0.02461905963718891, 0.07341335713863373, -0.04997217282652855, 0.0062304227612912655, 0.021585728973150253, -0.0038435717578977346, 0.000980679178610444, 0.003054780652746558, 0.0035444980021566153, -0.007809676695615053, 0.0656750425696373, -0.04702721908688545, 0.05881757289171219, 0.03956272453069687, -0.022821811959147453, 0.03875689208507538, 0.10887955874204636, -0.008334429003298283, -0.023687034845352173, 0.06491805613040924, -0.044013481587171555, 0.09467636048793793, -0.05661532282829285, -0.010281257331371307, 0.026381127536296844, -0.041541412472724915, -0.0019172249594703317, -0.00449957512319088, -0.011823526583611965, 0.05570593476295471, 0.0270076896995306, -0.015632160007953644, 0.015834063291549683, -0.03159622102975845, -0.03662639111280441, -0.035790976136922836, 0.003315732115879655, -0.033802516758441925, 0.009846929460763931, -0.0017643988830968738, 0.038348663598299026, -0.025531049817800522, -0.0008081742562353611, -0.0007795553538016975, -0.03872989863157272, -0.0037704992573708296, 0.07212331891059875, -0.03197770193219185, -0.009480481036007404, 0.03580385819077492, -0.016784878447651863, -0.04446985572576523, 0.015811651945114136, 0.0012861364521086216, 0.05707838758826256, -0.0638827309012413, 0.024623027071356773, 0.038978368043899536, 0.0203182864934206, -0.06952669471502304, -0.012781690806150436, -0.057927533984184265, 0.016448620706796646, -0.03258805349469185, -0.003864854574203491, 0.0031888356897979975, -0.02210816740989685, 0.014002515003085136, 0.05264842510223389, -0.060887809842824936, 0.06376485526561737, -0.012519550509750843, -0.020427178591489792, -0.019150882959365845, -0.007825775071978569, 0.045233290642499924, 0.008767243474721909, 0.037835873663425446, 0.03328400477766991, -0.055818624794483185, -0.013841751031577587, 0.05244354158639908, -0.03919684514403343, -0.015342138707637787, 0.018710382282733917, 0.00023922574473544955, -0.02467786706984043, 0.09302657097578049, -0.000688054074998945, -0.03656482324004173, 0.017280161380767822, 0.00010158756776945665, 0.012106205336749554, 0.044755127280950546, -0.030608920380473137, -0.005707394331693649, 0.016132889315485954, 0.037376973778009415, -0.018084989860653877, -0.007327946834266186, 0.002076491480693221, -0.02373867854475975, 0.009554549120366573, 0.05804545804858208, -0.012130722403526306, -0.05690484493970871, -0.002527873730286956, 0.0027464362792670727, -0.028786975890398026, -0.04719648137688637, -0.0036182014737278223, 0.008749699220061302, 0.01200011931359768, 0.0030898749828338623, -0.024949191138148308, -0.008160070516169071, -0.014797885902225971, -0.002842533867806196, -0.044197723269462585, -0.018969710916280746, -0.004070872440934181, -0.00030760045046918094, -0.04782719537615776, 0.029562287032604218, 0.006750306114554405, -0.02998625859618187, -0.007259544916450977, -0.053958818316459656, 0.03400614857673645, 0.07444477081298828, 0.018259502947330475, 0.009135877713561058, 0.05270180478692055, -0.03768045827746391, 0.0614776648581028, 0.004290711600333452, 0.0936419665813446, -0.01948438212275505, -0.012146136723458767, -0.02133648842573166, 0.011363456025719643, -0.0013861996121704578, 0.047795556485652924, 0.012883855029940605, -0.00887230597436428, -0.002275458537042141, -0.0232570618391037, -0.03458879142999649, 0.013862019404768944, 0.037478748708963394, 1.5531511962763034e-05, -0.01895536296069622, 0.03530993312597275, -0.016512826085090637, -0.046918101608753204, -0.05189919471740723, -0.00630834698677063, -0.03256647661328316, -0.04581095650792122, -0.007598569616675377, -0.001671927166171372, -0.014996686019003391, 0.009026831947267056, 0.038741856813430786, 0.023891596123576164, -0.005222189240157604, 0.07000569254159927, -0.08999757468700409, -0.006140558049082756, 0.03571460768580437, -0.0322369821369648, 0.02738158032298088, 0.019939187914133072, 0.05894375219941139, -0.019489768892526627, -0.023560088127851486, 0.042866066098213196, -0.009266518987715244, -0.0018884640885517001, -0.004019586835056543, 0.029277561232447624, 0.011914771981537342, -0.021164964884519577, -0.03579114377498627, 0.039426326751708984, 0.009417557157576084, -0.08042121678590775, 0.02135014720261097, -0.04570844769477844, 0.00707228621467948, -0.026196908205747604, -0.03779273107647896, -0.02591496706008911, 0.012067138217389584, -0.005337398499250412, -0.032866355031728745, -0.022277025505900383, 0.03185848891735077, -0.0004679743433371186, 0.020294448360800743, -0.018929192796349525, 0.01628742553293705, 0.05183382332324982, 0.0003132745041511953, -0.0015513957478106022, 0.005532171577215195, -0.022965166717767715, 0.07173270732164383, 0.03309266269207001, -0.01595730148255825, -0.006900254171341658, -0.03297227621078491, -0.07402725517749786, 0.015449542552232742, -0.019344788044691086, 0.004545625299215317, -0.000790669466368854, -0.01715444028377533, 0.00045404030242934823, -0.048124417662620544, -0.03593430668115616, -0.020766951143741608, -0.007006314117461443, -0.022118614986538887, -0.05323877930641174, 0.02687024138867855, 0.023430217057466507, 0.04012517258524895, -0.06237076595425606, -0.06814149767160416, -0.058554284274578094, 0.05712553858757019, -0.00588181521743536, -0.03506934642791748, -0.004418681375682354, 0.030353853479027748, 0.02305683307349682, 0.008821098133921623, -0.022767793387174606, -0.013256324455142021, -0.02175609953701496, 0.010930284857749939, 0.023044181987643242, -0.027192695066332817, -0.0013283526059240103, -0.002606947673484683, -0.02007637359201908, 0.003965653479099274, 0.004933262709528208, -0.03767659142613411, -0.07167395949363708, 0.023619526997208595, 0.021513765677809715, -0.07266996055841446, 0.0114522660151124, -0.027545956894755363, -0.02651727758347988, 0.055217988789081573, -0.012009945698082447, -0.028606314212083817, -0.033894360065460205, -0.03954990208148956, -0.07105176895856857, 0.03910072520375252, -0.10593318939208984, 0.01834573596715927, -0.1097889393568039, 0.002406788757070899, -0.05929039046168327, -0.023481125012040138, -0.07704439014196396, 0.02086760476231575, 0.06027814745903015, -0.021111447364091873, 0.022983143106102943, -0.028135152533650398, 0.020990759134292603, -0.0066584753803908825, -0.061013780534267426, 0.02692047879099846, -0.04868413507938385, 0.041698157787323, -0.003407777054235339, 0.07139385491609573, 0.028050165623426437, 0.018364833667874336, -0.017097169533371925, 0.05744307488203049, 0.013825196772813797, -0.010861157439649105, 0.013958157040178776, -0.09055319428443909, -0.019933000206947327, -0.02490771748125553, -0.0002406994317425415, -0.0029354365542531013, 0.01808100752532482, 0.024519076570868492, 0.025743532925844193, -0.00438342522829771, 0.021675096824765205, 0.029881538823246956, -0.015645945444703102, -0.050341080874204636, 0.08475691825151443, 0.018045464530587196, 0.00735021336004138, -0.0569932758808136, -0.020568963140249252, 0.008937321603298187, 0.016698967665433884, -0.02455958165228367, 0.01822041906416416, 0.03960149735212326, 0.06363652646541595, -0.0266082976013422, -0.008672392927110195, 0.0016651707701385021, -0.009027057327330112, 0.047986824065446854, -0.08090835064649582, -0.016408082097768784, 0.030898647382855415, -0.001311100902967155, 0.01194706279784441, -0.019116083160042763, -0.010389955714344978, -0.000565763097256422, -0.03542351722717285, 0.04218672960996628, -0.014778965152800083, -0.004302354995161295, -0.034777868539094925, 0.017154794186353683, 0.025494001805782318, 0.08298366516828537, -0.002945983549579978, -0.08643073588609695, -0.015595606528222561, -0.0016896585002541542, -0.08322304487228394, -0.003916923888027668, 0.028176235035061836, -0.0023949546739459038, 0.01705487072467804, -0.02730409987270832, 0.1095731109380722, -0.06803937256336212, 0.023821450769901276, -0.006729970220476389, -0.0071437363512814045, 0.010315758176147938, 0.04608658328652382, 0.026124686002731323, -0.012190925888717175, 0.07140009105205536, -0.011298256926238537, 0.03174736723303795, 0.02996942214667797, -0.0034103859215974808, -0.0003049532533623278, 0.02416863851249218, -0.0837165042757988, 0.020175443962216377, -0.012057360261678696, -0.022507859393954277, 0.005804875865578651, 0.03864559903740883, -0.0013848148519173265, 0.04881056770682335, 0.00018185112276114523, -0.018224315717816353, 0.027074068784713745, 0.05314691737294197, 0.026340560987591743, 0.04689808934926987, -0.022448096424341202, 0.0023627872578799725, -0.013596560806035995, 0.07526858896017075, 0.022410491481423378, -0.0382191427052021, 0.04295504465699196, 0.0670049861073494, -0.020665481686592102, -0.02459230273962021, -0.01052098535001278, 0.02921433374285698, -0.03451942652463913, 0.029964793473482132, -0.06997127830982208, -0.02700604870915413, 0.02052539587020874, -0.009941027499735355, 0.01581263728439808, 0.07580683380365372, 0.004980192985385656, -0.011212143115699291, 0.05933795124292374, -0.037611596286296844, 0.06493142247200012, -0.006036579143255949, 0.009519951418042183, 0.07331843674182892, 0.008798967115581036, -0.01341824047267437, 0.057579878717660904, 0.007051240187138319, 0.014941093511879444, -0.04051866754889488, 0.006335102953016758, -0.0019716673996299505, 0.03062296472489834, 0.033507198095321655, 0.01345093920826912, 0.018685078248381615, -0.028762638568878174, 0.08871046453714371, -0.039198845624923706, 0.00524618336930871, -0.007681714836508036, -0.03998221829533577, 0.0035843520890921354, 0.002186643658205867, 0.07732166349887848, 0.029498035088181496, -0.03007352352142334, 0.0022598127834498882, -0.02012898400425911, 0.002074801130220294, -0.032455720007419586, 0.03956485539674759, 0.0037817670963704586, -0.01960449293255806, -0.02079278975725174, 0.007819832302629948, 0.007746642921119928, -0.02163868024945259, 0.02537548542022705, 0.07053107768297195, 0.007181144319474697, -0.024026965722441673, -0.029403533786535263, 0.014896182343363762, 0.04297245293855667, 0.045412905514240265, 0.04357985779643059, 0.02297273650765419, -0.012890967540442944, -0.02258474752306938, 0.019185470417141914, 0.0417507104575634, -0.006709870416671038, 0.04945472255349159, 0.011207235977053642, -0.09094849228858948, 0.023647429421544075, 0.06648483872413635, -0.019912131130695343, -0.018469875678420067, 0.07996277511119843, 0.00889046210795641, -0.10711724311113358, 0.0199288297444582, 0.012099923565983772, 0.002572255674749613, -0.003164028748869896, 0.008487897925078869, 0.006881027482450008, -0.012176956981420517, 0.019095992669463158, -0.0093527277931571, -0.027726871892809868, 0.010368233546614647, -0.012277092784643173, -0.02845018357038498, -0.0011658330913633108, -0.012201863341033459, -0.013503256253898144, 0.04214797914028168, -0.04893941804766655, -0.05858350917696953, -0.07107336074113846, -0.004053115379065275, 0.05064857378602028, -0.039223480969667435, 0.02127170003950596, 0.03842853754758835, -0.020842526108026505, 0.010865327902138233, 0.03700129687786102, -0.0379733182489872, 0.023322144523262978, 0.01167857926338911, 0.010767610743641853, -0.01363322138786316, -0.06428030133247375, -0.024898748844861984, 0.01535216998308897, 0.012150050140917301, 0.014474662952125072, 0.02716752327978611, -0.010476733557879925, -0.043822482228279114, 0.010981283150613308, 0.03270246833562851, 0.022747568786144257, -0.003710440592840314, -0.007301056291908026, 0.053868286311626434, -0.0003081390168517828, 0.003612101310864091, -0.02666310779750347, 0.019284933805465698, 0.07602453231811523, -0.004395590163767338, -0.021355245262384415, 0.009351334534585476, -0.009886736050248146, 0.008701691403985023, 0.029481273144483566, -0.008239801973104477, 0.0072624715976417065, -0.023893335834145546, 0.008376926183700562, 0.005011582747101784, -0.028315095230937004, -0.04577573388814926, 0.009136691689491272, 0.007943695411086082, -0.02602422796189785, 0.022086653858423233, 0.014017945155501366, -0.024307353422045708, 0.04731275513768196, 0.03908724710345268, 0.04107999801635742, 0.06065278500318527, -0.035811953246593475, -0.03621458262205124, 0.027289297431707382, -0.05277201160788536, 0.017778681591153145, -0.05472822114825249, -0.03758281096816063, 0.1025090217590332, -0.05162854120135307, 0.03355873376131058, 0.0036758901551365852, -0.012731083668768406, 0.06294677406549454, -0.00753265293315053, 0.010509686544537544, -0.007228008937090635, -0.058135684579610825, -0.06325695663690567, 0.0019819289445877075, 0.010774838738143444, 0.0593755729496479, 0.034205470234155655, -0.016148459166288376, 0.046504490077495575, 0.03471912071108818, 0.0032999010290950537, -0.010025665163993835, -0.06664086133241653, -0.01419680193066597, -0.01873921789228916, 0.08883398771286011, 0.02571456879377365, -0.003742563771083951, -0.014054562896490097, 0.024715954437851906, -0.0047227139584720135, 0.013103220611810684, -0.05504068732261658, 0.007942326366901398, 0.015121608972549438, 0.01184849627315998, 0.00899751577526331, 0.013635581359267235, -0.058540523052215576, -0.008450820110738277]\n"
     ]
    }
   ],
   "source": [
    "embeddingGCP = VertexAIEmbeddings(\n",
    "    model_name=\"textembedding-gecko@latest\", project=PROJECT_ID\n",
    ")\n",
    "\n",
    "query_result = embeddingGCP.embed_query(test_embedding)\n",
    "\n",
    "print(f\"test_embedding: {test_embedding}\")\n",
    "print(f\"query_result: {query_result}\")"
   ]
  },
  {
   "cell_type": "markdown",
   "id": "7550372a-5e4c-4719-966f-58bb04d19ccd",
   "metadata": {},
   "source": [
    "#### **Node4J Connectivity**\n",
    "\n",
    "Requires signing up for free version.\n",
    "\n",
    "DB Will be stopped if not recently used and will require resuming else will fail. "
   ]
  },
  {
   "cell_type": "code",
   "execution_count": 8,
   "id": "f2e2c285-73ed-41c7-ac46-eea0d3aec3b4",
   "metadata": {
    "tags": []
   },
   "outputs": [],
   "source": [
    "os.environ[\"NEO4J_URI\"] = \"neo4j+s://a657168d.databases.neo4j.io\"\n",
    "os.environ[\"NEO4J_USERNAME\"] = \"neo4j\"\n",
    "os.environ[\"NEO4J_PASSWORD\"] = \"VM3A9Mz6usNT99nLs_lqQssfVK8JxeD81DnEiXlDkZU\"\n",
    "\n",
    "graph = Neo4jGraph()"
   ]
  },
  {
   "cell_type": "markdown",
   "id": "93d057ef-8f3f-41db-b822-4f29a4af1467",
   "metadata": {},
   "source": [
    "#### Working with vectorstore\n",
    "\n",
    "Above, we created a vectorstore from scratch. However, often times we want to work with an existing vectorstore. In order to do that, we can initialize it directly.\n",
    "\n",
    "Extract from: https://python.langchain.com/v0.1/docs/integrations/vectorstores/neo4jvector/\n",
    "\n",
    "Apparently Vectorised GrpahDB Indices and Vector Stores are synonymous? a"
   ]
  },
  {
   "cell_type": "code",
   "execution_count": 22,
   "id": "976f7f0a-05f3-4ad7-a361-ca4fd518cbaa",
   "metadata": {
    "tags": []
   },
   "outputs": [],
   "source": [
    "#index_name = \"vector\"  # default index name\n",
    "\n",
    "#existing_graph = Neo4jVector.from_existing_index(\n",
    "#    embedding,\n",
    "#    url=os.environ[\"NEO4J_URI\"],\n",
    "#    username=os.environ[\"NEO4J_USERNAME\"],\n",
    "#    password=os.environ[\"NEO4J_PASSWORD\"],\n",
    "#    index_name=index_name,\n",
    "#)\n",
    "\n",
    "existing_graph = Neo4jVector.from_existing_graph(\n",
    "    embedding=embeddingGCP,\n",
    "    url=os.environ[\"NEO4J_URI\"],\n",
    "    username=os.environ[\"NEO4J_USERNAME\"],\n",
    "    password=os.environ[\"NEO4J_PASSWORD\"],\n",
    "    index_name=\"person_index\",\n",
    "    node_label=\"Person\",\n",
    "    text_node_properties=[\"name\", \"location\"],\n",
    "    embedding_node_property=\"embedding\",\n",
    ")"
   ]
  },
  {
   "cell_type": "markdown",
   "id": "f8e26a25-5bab-415e-839c-60575985323e",
   "metadata": {},
   "source": [
    "**Perform a Search** using the Vector Search Index."
   ]
  },
  {
   "cell_type": "code",
   "execution_count": 23,
   "id": "edf7acfa-e0bb-4d60-b1ca-aa12472942a5",
   "metadata": {
    "tags": []
   },
   "outputs": [
    {
     "name": "stdout",
     "output_type": "stream",
     "text": [
      "query: Person\n",
      "result: []\n"
     ]
    }
   ],
   "source": [
    "result = existing_graph.similarity_search(search_string)\n",
    "print(f\"query: {search_string}\")\n",
    "print(f\"result: {result}\")"
   ]
  },
  {
   "cell_type": "code",
   "execution_count": 24,
   "id": "bfe4d58c-957e-404b-a693-1d3b7c3f8cbd",
   "metadata": {
    "tags": []
   },
   "outputs": [
    {
     "name": "stdout",
     "output_type": "stream",
     "text": [
      "query: Person\n",
      "result: []\n"
     ]
    }
   ],
   "source": [
    "docs_with_score = existing_graph.similarity_search_with_score(search_string)\n",
    "print(f\"query: {search_string}\")\n",
    "print(f\"result: {docs_with_score}\")"
   ]
  },
  {
   "cell_type": "code",
   "execution_count": null,
   "id": "2ac2660f-c6dc-498a-8f78-3296386bca09",
   "metadata": {},
   "outputs": [],
   "source": []
  }
 ],
 "metadata": {
  "environment": {
   "kernel": "conda-base-py",
   "name": "workbench-notebooks.m121",
   "type": "gcloud",
   "uri": "us-docker.pkg.dev/deeplearning-platform-release/gcr.io/workbench-notebooks:m121"
  },
  "kernelspec": {
   "display_name": "Python 3 (ipykernel) (Local)",
   "language": "python",
   "name": "conda-base-py"
  },
  "language_info": {
   "codemirror_mode": {
    "name": "ipython",
    "version": 3
   },
   "file_extension": ".py",
   "mimetype": "text/x-python",
   "name": "python",
   "nbconvert_exporter": "python",
   "pygments_lexer": "ipython3",
   "version": "3.10.14"
  }
 },
 "nbformat": 4,
 "nbformat_minor": 5
}
